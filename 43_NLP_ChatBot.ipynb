{
 "cells": [
  {
   "cell_type": "markdown",
   "metadata": {},
   "source": [
    "### 1.  Import Required Libraries\n"
   ]
  },
  {
   "cell_type": "code",
   "execution_count": 1,
   "metadata": {},
   "outputs": [],
   "source": [
    "import random\n",
    "import re\n"
   ]
  },
  {
   "cell_type": "markdown",
   "metadata": {},
   "source": [
    "### 2.  Define ChatBot"
   ]
  },
  {
   "cell_type": "code",
   "execution_count": 2,
   "metadata": {},
   "outputs": [],
   "source": [
    "\n",
    "# Define the chatbot responses\n",
    "responses = {\n",
    "    \"hi\": [\"Hello!\", \"Hi there!\", \"Hey! How can I assist you today?\"],\n",
    "    \"how are you?\": [\"I'm good, thanks! How about you?\", \"I'm doing well, thank you!\"],\n",
    "    \"what's your name?\": [\"You can call me Chatbot!\", \"I go by the name Chatbot.\"],\n",
    "    \"bye\": [\"Goodbye!\", \"See you later!\", \"Take care!\"]\n",
    "}\n",
    "\n",
    "# Define more complex responses\n",
    "complex_responses = {\n",
    "    \"tell me a joke\": [\"Why don't scientists trust atoms? Because they make up everything!\",\n",
    "                      \"Did you hear about the mathematician who’s afraid of negative numbers? He’ll stop at nothing to avoid them!\"],\n",
    "    \"weather\": [\"I'm sorry, I'm not equipped to provide weather updates.\",\n",
    "                \"You might want to check a weather website or app for the latest weather information.\"],\n",
    "    \"thank you\": [\"You're welcome!\", \"No problem!\"],\n",
    "    \"who are you?\": [\"I am a chatbot designed to assist you with your queries.\",\n",
    "                     \"I'm Chatbot, your virtual assistant!\"],\n",
    "    \"what can you do?\": [\"I can answer your questions, tell you jokes, and provide information on various topics.\",\n",
    "                         \"Feel free to ask me anything! I'll do my best to assist you.\"],\n",
    "    \"what is the meaning of life?\": [\"The meaning of life is a philosophical question that has puzzled humans for centuries!\",\n",
    "                                     \"That's a deep question! The meaning of life may vary for each individual.\"],\n",
    "    \"how can I contact support?\": [\"For support assistance, please contact our customer service hotline at XXX-XXXX-XXXX.\",\n",
    "                                   \"You can reach our support team via email at support@example.com.\"],\n",
    "    \"default\": [\"I'm sorry, I didn't quite understand that. Could you please rephrase?\",\n",
    "                \"Could you provide more details?\", \"I'm still learning. Can you try asking another question?\"]\n",
    "}\n",
    "\n",
    "# Function to get the bot's response\n",
    "def get_response(user_input):\n",
    "    user_input = user_input.lower()\n",
    "    for pattern, responses_list in responses.items():\n",
    "        if re.search(pattern, user_input):\n",
    "            return random.choice(responses_list)\n",
    "    for pattern, responses_list in complex_responses.items():\n",
    "        if re.search(pattern, user_input):\n",
    "            return random.choice(responses_list)\n",
    "\n",
    "    # If no specific pattern is matched, return a default response\n",
    "    return random.choice(complex_responses[\"default\"])\n",
    "\n",
    "# Function to initiate the chat\n",
    "def chat():\n",
    "    print(\"Welcome to the Chatbot! Type 'bye' to exit.\")\n",
    "    while True:\n",
    "        user_input = input(\"You: \")\n",
    "        if user_input.lower() == 'bye':\n",
    "            print(\"Chatbot: Goodbye! Have a great day!\")\n",
    "            break\n",
    "        else:\n",
    "            response = get_response(user_input)\n",
    "            print(\"Chatbot:\", response)\n"
   ]
  },
  {
   "cell_type": "markdown",
   "metadata": {},
   "source": [
    "### 3.  Chat with the chatbot\n"
   ]
  },
  {
   "cell_type": "code",
   "execution_count": 3,
   "metadata": {},
   "outputs": [
    {
     "name": "stdout",
     "output_type": "stream",
     "text": [
      "Welcome to the Chatbot! Type 'bye' to exit.\n",
      "Chatbot: Hey! How can I assist you today?\n",
      "Chatbot: I'm good, thanks! How about you?\n",
      "Chatbot: That's a deep question! The meaning of life may vary for each individual.\n",
      "Chatbot: I go by the name Chatbot.\n",
      "Chatbot: Goodbye! Have a great day!\n"
     ]
    }
   ],
   "source": [
    "chat()"
   ]
  }
 ],
 "metadata": {
  "kernelspec": {
   "display_name": "base",
   "language": "python",
   "name": "python3"
  },
  "language_info": {
   "codemirror_mode": {
    "name": "ipython",
    "version": 3
   },
   "file_extension": ".py",
   "mimetype": "text/x-python",
   "name": "python",
   "nbconvert_exporter": "python",
   "pygments_lexer": "ipython3",
   "version": "3.10.9"
  }
 },
 "nbformat": 4,
 "nbformat_minor": 2
}
