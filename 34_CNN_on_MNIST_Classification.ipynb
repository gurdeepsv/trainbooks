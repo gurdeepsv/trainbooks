{
 "cells": [
  {
   "cell_type": "markdown",
   "metadata": {},
   "source": [
    "# Import Required Libraries\n",
    "Import the necessary libraries, including Keras, Matplotlib, NumPy, and Scikit-learn."
   ]
  },
  {
   "cell_type": "code",
   "execution_count": 1,
   "metadata": {},
   "outputs": [],
   "source": [
    "# Importing required libraries\n",
    "import matplotlib.pyplot as plt\n",
    "from keras.datasets import mnist\n",
    "import keras\n",
    "import numpy as np\n",
    "from sklearn.preprocessing import StandardScaler\n",
    "from sklearn.preprocessing import MinMaxScaler\n",
    "from sklearn.model_selection import train_test_split\n",
    "from keras.models import Sequential\n",
    "from keras.utils import to_categorical\n",
    "from keras.layers import Dense\n",
    "from keras.layers import Conv2D, MaxPooling2D, Flatten"
   ]
  },
  {
   "cell_type": "markdown",
   "metadata": {},
   "source": [
    "# Load MNIST Dataset\n",
    "Load the MNIST dataset from Keras datasets."
   ]
  },
  {
   "cell_type": "code",
   "execution_count": 2,
   "metadata": {},
   "outputs": [],
   "source": [
    "# Load MNIST dataset\n",
    "(X_train, y_train), (X_test, y_test) = mnist.load_data()"
   ]
  },
  {
   "cell_type": "markdown",
   "metadata": {},
   "source": [
    "# Create a Subset Dataset\n",
    "Create a new subset of the MNIST dataset for training and testing."
   ]
  },
  {
   "cell_type": "code",
   "execution_count": 3,
   "metadata": {},
   "outputs": [],
   "source": [
    "# Create a new subset dataset\n",
    "subset_train_indices = []\n",
    "subset_test_indices = []\n",
    "for class_label in range(10):\n",
    "    class_indices = np.where(y_train == class_label)[0]\n",
    "    subset_train_indices.extend(class_indices[:60])\n",
    "    class_indices = np.where(y_test == class_label)[0]\n",
    "    subset_test_indices.extend(class_indices[60:70])\n",
    "\n",
    "X_train = X_train[subset_train_indices]\n",
    "y_train = y_train[subset_train_indices]\n",
    "X_test = X_test[subset_test_indices]\n",
    "y_test = y_test[subset_test_indices]"
   ]
  },
  {
   "cell_type": "markdown",
   "metadata": {},
   "source": [
    "# Display Dataset Information\n",
    "Display the length of the subset training and testing data, and the number of instances for each class."
   ]
  },
  {
   "cell_type": "code",
   "execution_count": 4,
   "metadata": {},
   "outputs": [
    {
     "name": "stdout",
     "output_type": "stream",
     "text": [
      "Number of instances for class 0 in training set: 60\n",
      "Number of instances for class 1 in training set: 60\n",
      "Number of instances for class 2 in training set: 60\n",
      "Number of instances for class 3 in training set: 60\n",
      "Number of instances for class 4 in training set: 60\n",
      "Number of instances for class 5 in training set: 60\n",
      "Number of instances for class 6 in training set: 60\n",
      "Number of instances for class 7 in training set: 60\n",
      "Number of instances for class 8 in training set: 60\n",
      "Number of instances for class 9 in training set: 60\n",
      "Number of instances for class 0 in test set: 10\n",
      "Number of instances for class 1 in test set: 10\n",
      "Number of instances for class 2 in test set: 10\n",
      "Number of instances for class 3 in test set: 10\n",
      "Number of instances for class 4 in test set: 10\n",
      "Number of instances for class 5 in test set: 10\n",
      "Number of instances for class 6 in test set: 10\n",
      "Number of instances for class 7 in test set: 10\n",
      "Number of instances for class 8 in test set: 10\n",
      "Number of instances for class 9 in test set: 10\n",
      "Length of subset training data: 600\n",
      "Length of subset testing data: 100\n"
     ]
    }
   ],
   "source": [
    "# Display the number of instances for each class in the training set\n",
    "for i in range(10):\n",
    "    print(f\"Number of instances for class {i} in training set: {sum(y_train == i)}\")\n",
    "\n",
    "# Display the number of instances for each class in the test set\n",
    "for i in range(10):\n",
    "    print(f\"Number of instances for class {i} in test set: {sum(y_test == i)}\")\n",
    "\n",
    "# Display the length of the subset training data\n",
    "print(f\"Length of subset training data: {len(X_train)}\")\n",
    "\n",
    "# Display the length of the subset testing data\n",
    "print(f\"Length of subset testing data: {len(X_test)}\")"
   ]
  },
  {
   "cell_type": "markdown",
   "metadata": {},
   "source": [
    "# Visualize the Dataset\n",
    "Display random images from the training dataset in a grid using Matplotlib."
   ]
  },
  {
   "cell_type": "code",
   "execution_count": 5,
   "metadata": {},
   "outputs": [
    {
     "data": {
      "image/png": "[encoded data removed]",
      "text/plain": [
       "<Figure size 500x500 with 9 Axes>"
      ]
     },
     "metadata": {},
     "output_type": "display_data"
    }
   ],
   "source": [
    "# Display random images in a grid\n",
    "fig, axes = plt.subplots(3, 3, figsize=(5, 5))  # Create a 3x3 grid of subplots\n",
    "for i, ax in enumerate(axes.flat):  # Loop over the flattened array of axes\n",
    "    index = np.random.randint(0, X_train.shape[0])  # Generate a random index\n",
    "    image = X_train[index]  # Select the image at the random index\n",
    "    ax.imshow(image, cmap='gray')  # Display the image in grayscale\n",
    "    ax.set_title(f'Label: {y_train[index]}')  # Set the title of the subplot to the label of the image\n",
    "plt.tight_layout()  # Adjust the layout to minimize overlap\n",
    "plt.show()  # Display the plot"
   ]
  },
  {
   "cell_type": "markdown",
   "metadata": {},
   "source": [
    "# Preprocess the Data\n",
    "Reshape and normalize the input data, and convert class vectors to binary class matrices."
   ]
  },
  {
   "cell_type": "code",
   "execution_count": 6,
   "metadata": {},
   "outputs": [],
   "source": [
    "# Reshape the input data\n",
    "X_train = X_train.reshape(X_train.shape[0], 28, 28, 1)\n",
    "X_test = X_test.reshape(X_test.shape[0], 28, 28, 1)\n",
    "\n",
    "# Normalize the input data\n",
    "X_train = X_train.astype('float32')\n",
    "X_test = X_test.astype('float32')\n",
    "#X_train = X_train.astype('float32') / 255\n",
    "#X_test = X_test.astype('float32') / 255\n",
    "\n",
    "# Convert class vectors to binary class matrices\n",
    "y_train = to_categorical(y_train, 10)\n",
    "y_test = to_categorical(y_test, 10)"
   ]
  },
  {
   "cell_type": "markdown",
   "metadata": {},
   "source": [
    "# Define the Model Architecture\n",
    "Define the architecture of the convolutional neural network model using Keras."
   ]
  },
  {
   "cell_type": "code",
   "execution_count": 7,
   "metadata": {},
   "outputs": [],
   "source": [
    "# Define the model architecture\n",
    "model = Sequential()\n",
    "\n",
    "# Add a Convolutional layer with 32 filters of size 3x3 and 'relu' activation function\n",
    "model.add(Conv2D(32, kernel_size=(3, 3), activation='relu', input_shape=(28, 28, 1)))\n",
    "model.add(MaxPooling2D(pool_size=(2, 2))) # Add a MaxPooling layer of size 2x2\n",
    "model.add(Flatten()) # Flatten the tensor output from the previous layer\n",
    "model.add(Dense(128, activation='relu')) # Add a Dense layer with 128 neurons and 'relu' activation function\n",
    "model.add(Dense(10, activation='softmax')) # Add a Dense layer with 10 neurons (one for each class) and 'softmax' activation function"
   ]
  },
  {
   "cell_type": "markdown",
   "metadata": {},
   "source": [
    "# Compile the Model\n",
    "Compile the model with the categorical crossentropy loss function, Adam optimizer, and accuracy as the metric."
   ]
  },
  {
   "cell_type": "code",
   "execution_count": 8,
   "metadata": {},
   "outputs": [],
   "source": [
    "# Compile the model\n",
    "model.compile(loss=keras.losses.categorical_crossentropy, \n",
    "              optimizer=keras.optimizers.Adam(), \n",
    "              metrics=['accuracy'])"
   ]
  },
  {
   "cell_type": "markdown",
   "metadata": {},
   "source": [
    "# Train the Model\n",
    "Train the model on the training data with a batch size of 128 and for 10 epochs."
   ]
  },
  {
   "cell_type": "code",
   "execution_count": 9,
   "metadata": {},
   "outputs": [
    {
     "name": "stdout",
     "output_type": "stream",
     "text": [
      "Epoch 1/20\n",
      "5/5 [==============================] - 1s 21ms/step - loss: 41.0930 - accuracy: 0.1800\n",
      "Epoch 2/20\n",
      "5/5 [==============================] - 0s 37ms/step - loss: 7.1844 - accuracy: 0.6450\n",
      "Epoch 3/20\n",
      "5/5 [==============================] - 0s 32ms/step - loss: 3.7520 - accuracy: 0.7833\n",
      "Epoch 4/20\n",
      "5/5 [==============================] - 0s 56ms/step - loss: 2.1541 - accuracy: 0.8367\n",
      "Epoch 5/20\n",
      "5/5 [==============================] - 0s 30ms/step - loss: 1.2241 - accuracy: 0.8817\n",
      "Epoch 6/20\n",
      "5/5 [==============================] - 0s 29ms/step - loss: 0.7894 - accuracy: 0.9100\n",
      "Epoch 7/20\n",
      "5/5 [==============================] - 0s 23ms/step - loss: 0.4136 - accuracy: 0.9333\n",
      "Epoch 8/20\n",
      "5/5 [==============================] - 0s 42ms/step - loss: 0.2314 - accuracy: 0.9617\n",
      "Epoch 9/20\n",
      "5/5 [==============================] - 0s 13ms/step - loss: 0.1081 - accuracy: 0.9817\n",
      "Epoch 10/20\n",
      "5/5 [==============================] - 0s 15ms/step - loss: 0.0638 - accuracy: 0.9900\n",
      "Epoch 11/20\n",
      "5/5 [==============================] - 0s 39ms/step - loss: 0.0351 - accuracy: 0.9967\n",
      "Epoch 12/20\n",
      "5/5 [==============================] - 0s 32ms/step - loss: 0.0217 - accuracy: 0.9983\n",
      "Epoch 13/20\n",
      "5/5 [==============================] - 0s 51ms/step - loss: 0.0129 - accuracy: 0.9983\n",
      "Epoch 14/20\n",
      "5/5 [==============================] - 0s 14ms/step - loss: 0.0070 - accuracy: 0.9983\n",
      "Epoch 15/20\n",
      "5/5 [==============================] - 0s 40ms/step - loss: 0.0028 - accuracy: 1.0000\n",
      "Epoch 16/20\n",
      "5/5 [==============================] - 0s 35ms/step - loss: 0.0011 - accuracy: 1.0000\n",
      "Epoch 17/20\n",
      "5/5 [==============================] - 0s 14ms/step - loss: 9.0136e-04 - accuracy: 1.0000\n",
      "Epoch 18/20\n",
      "5/5 [==============================] - 0s 22ms/step - loss: 6.1365e-04 - accuracy: 1.0000\n",
      "Epoch 19/20\n",
      "5/5 [==============================] - 0s 25ms/step - loss: 4.7260e-04 - accuracy: 1.0000\n",
      "Epoch 20/20\n",
      "5/5 [==============================] - 0s 53ms/step - loss: 3.6623e-04 - accuracy: 1.0000\n"
     ]
    },
    {
     "data": {
      "text/plain": [
       "<keras.callbacks.History at 0x20fb37f6200>"
      ]
     },
     "execution_count": 9,
     "metadata": {},
     "output_type": "execute_result"
    }
   ],
   "source": [
    "# Train the model\n",
    "model.fit(X_train, y_train, batch_size=128, epochs=20, verbose=1)"
   ]
  },
  {
   "cell_type": "markdown",
   "metadata": {},
   "source": [
    "# Evaluate the Model on Training Data\n",
    "Evaluate the model on the training data and display the training accuracy."
   ]
  },
  {
   "cell_type": "code",
   "execution_count": 10,
   "metadata": {},
   "outputs": [
    {
     "name": "stdout",
     "output_type": "stream",
     "text": [
      "Training Accuracy: 1.0\n"
     ]
    }
   ],
   "source": [
    "# Evaluate the model on training data\n",
    "train_loss, train_accuracy = model.evaluate(X_train, y_train, verbose=0)\n",
    "\n",
    "# Print the training accuracy\n",
    "print(f\"Training Accuracy: {train_accuracy}\")"
   ]
  },
  {
   "cell_type": "markdown",
   "metadata": {},
   "source": [
    "# Evaluate the Model on Test Data\n",
    "Evaluate the model on the test data and display the test accuracy."
   ]
  },
  {
   "cell_type": "code",
   "execution_count": 11,
   "metadata": {},
   "outputs": [
    {
     "name": "stdout",
     "output_type": "stream",
     "text": [
      "Test Accuracy: 0.7599999904632568\n"
     ]
    }
   ],
   "source": [
    "# Evaluate the model on test data\n",
    "test_loss, test_accuracy = model.evaluate(X_test, y_test, verbose=0)\n",
    "\n",
    "# Print the test accuracy\n",
    "print(f\"Test Accuracy: {test_accuracy}\")"
   ]
  }
 ],
 "metadata": {
  "kernelspec": {
   "display_name": "base",
   "language": "python",
   "name": "python3"
  },
  "language_info": {
   "codemirror_mode": {
    "name": "ipython",
    "version": 3
   },
   "file_extension": ".py",
   "mimetype": "text/x-python",
   "name": "python",
   "nbconvert_exporter": "python",
   "pygments_lexer": "ipython3",
   "version": "3.10.9"
  },
  "orig_nbformat": 4
 },
 "nbformat": 4,
 "nbformat_minor": 2
}
