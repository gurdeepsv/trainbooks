{
 "cells": [
  {
   "cell_type": "markdown",
   "metadata": {},
   "source": [
    "### 1.  Import Required Libraries\n",
    "Import the necessary libraries, including Keras, Matplotlib, NumPy, and sklearn."
   ]
  },
  {
   "cell_type": "code",
   "execution_count": 1,
   "metadata": {},
   "outputs": [],
   "source": [
    "# Importing the required libraries\n",
    "import matplotlib.pyplot as plt\n",
    "from keras.datasets import mnist\n",
    "import keras\n",
    "import numpy as np\n",
    "from sklearn.model_selection import train_test_split\n",
    "from keras.models import Sequential\n",
    "from keras.utils import to_categorical\n",
    "from keras.layers import Dense\n",
    "from keras.layers import Conv2D, MaxPooling2D, Flatten"
   ]
  },
  {
   "cell_type": "markdown",
   "metadata": {},
   "source": [
    "### 2.  Load and Subset MNIST Dataset\n",
    "Load the MNIST dataset and create a subset for training and testing."
   ]
  },
  {
   "cell_type": "code",
   "execution_count": 2,
   "metadata": {},
   "outputs": [],
   "source": [
    "# Load MNIST dataset\n",
    "(X_train, y_train), (X_test, y_test) = mnist.load_data()\n",
    "\n",
    "# Create a new subset dataset\n",
    "subset_train_indices = []\n",
    "subset_test_indices = []\n",
    "for class_label in range(10):\n",
    "    class_indices = np.where(y_train == class_label)[0]\n",
    "    subset_train_indices.extend(class_indices[:60])\n",
    "    class_indices = np.where(y_test == class_label)[0]\n",
    "    subset_test_indices.extend(class_indices[60:70])\n",
    "\n",
    "X_train = X_train[subset_train_indices]\n",
    "y_train = y_train[subset_train_indices]\n",
    "X_test = X_test[subset_test_indices]\n",
    "y_test = y_test[subset_test_indices]"
   ]
  },
  {
   "cell_type": "markdown",
   "metadata": {},
   "source": [
    "### 3.  Display Class Distribution\n",
    "Print the number of instances for each class in the training and testing datasets."
   ]
  },
  {
   "cell_type": "code",
   "execution_count": 3,
   "metadata": {},
   "outputs": [
    {
     "name": "stdout",
     "output_type": "stream",
     "text": [
      "Training dataset:\n",
      "Class 0: 60 instances\n",
      "Class 1: 60 instances\n",
      "Class 2: 60 instances\n",
      "Class 3: 60 instances\n",
      "Class 4: 60 instances\n",
      "Class 5: 60 instances\n",
      "Class 6: 60 instances\n",
      "Class 7: 60 instances\n",
      "Class 8: 60 instances\n",
      "Class 9: 60 instances\n",
      "\n",
      "Testing dataset:\n",
      "Class 0: 10 instances\n",
      "Class 1: 10 instances\n",
      "Class 2: 10 instances\n",
      "Class 3: 10 instances\n",
      "Class 4: 10 instances\n",
      "Class 5: 10 instances\n",
      "Class 6: 10 instances\n",
      "Class 7: 10 instances\n",
      "Class 8: 10 instances\n",
      "Class 9: 10 instances\n"
     ]
    }
   ],
   "source": [
    "# Print the number of instances per class in the training dataset\n",
    "print(\"Training dataset:\")\n",
    "for i in range(10):\n",
    "    print(f\"Class {i}: {sum(y_train == i)} instances\")\n",
    "\n",
    "# Print the number of instances per class in the testing dataset\n",
    "print(\"\\nTesting dataset:\")\n",
    "for i in range(10):\n",
    "    print(f\"Class {i}: {sum(y_test == i)} instances\")"
   ]
  },
  {
   "cell_type": "markdown",
   "metadata": {},
   "source": [
    "### 4.  Display Length of Training and Testing Data\n",
    "Print the length of the subset training and testing data."
   ]
  },
  {
   "cell_type": "code",
   "execution_count": 4,
   "metadata": {},
   "outputs": [
    {
     "name": "stdout",
     "output_type": "stream",
     "text": [
      "Length of subset training data: 600\n",
      "Length of subset testing data: 100\n"
     ]
    }
   ],
   "source": [
    "# Display the length of each part\n",
    "print(f\"Length of subset training data: {len(X_train)}\")\n",
    "print(f\"Length of subset testing data: {len(X_test)}\")"
   ]
  },
  {
   "cell_type": "markdown",
   "metadata": {},
   "source": [
    "### 5.  Shift Images Randomly\n",
    "Randomly shift the images in the training dataset horizontally."
   ]
  },
  {
   "cell_type": "code",
   "execution_count": 5,
   "metadata": {},
   "outputs": [],
   "source": [
    "# Create a copy of the training dataset\n",
    "X_shifted = np.copy(X_train) \n",
    "\n",
    "# For each image in the dataset\n",
    "for i in range(len(X_shifted)):\n",
    "    # Randomly select a shift value between -4 and 4\n",
    "    shift = np.random.choice([-4, 4])\n",
    "    # Shift the image horizontally\n",
    "    X_shifted[i] = np.roll(X_shifted[i], shift, axis=1)\n",
    "\n",
    "# Replace the original training dataset with the shifted dataset\n",
    "X_train  = np.copy(X_shifted)"
   ]
  },
  {
   "cell_type": "markdown",
   "metadata": {},
   "source": [
    "### 6.  Display Random Images\n",
    "Display random images from the training dataset in a grid."
   ]
  },
  {
   "cell_type": "code",
   "execution_count": 6,
   "metadata": {},
   "outputs": [
    {
     "data": {
      "image/png": "[encoded data removed]",
      "text/plain": [
       "<Figure size 500x500 with 9 Axes>"
      ]
     },
     "metadata": {},
     "output_type": "display_data"
    }
   ],
   "source": [
    "# Display random images in a grid\n",
    "fig, axes = plt.subplots(3, 3, figsize=(5, 5))\n",
    "for i, ax in enumerate(axes.flat):\n",
    "    # Randomly select an image index\n",
    "    index = np.random.randint(0, X_train.shape[0])\n",
    "    # Get the corresponding image and label\n",
    "    image = X_train[index]\n",
    "    label = y_train[index]\n",
    "    # Display the image and its label\n",
    "    ax.imshow(image, cmap='gray')\n",
    "    ax.set_title(f'Label: {label}')\n",
    "plt.tight_layout()\n",
    "plt.show()"
   ]
  },
  {
   "cell_type": "markdown",
   "metadata": {},
   "source": [
    "### 7.  Reshape and Normalize Input Data\n",
    "Reshape the input data and normalize it by dividing by 255."
   ]
  },
  {
   "cell_type": "code",
   "execution_count": 7,
   "metadata": {},
   "outputs": [],
   "source": [
    "# Reshape the input data\n",
    "X_train = X_train.reshape(X_train.shape[0], 28, 28, 1)\n",
    "X_test = X_test.reshape(X_test.shape[0], 28, 28, 1)\n",
    "\n",
    "# Normalize the input data\n",
    "X_train = X_train.astype('float32') / 255\n",
    "X_test = X_test.astype('float32') / 255\n",
    "#X_train = X_train.astype('float32')\n",
    "#X_test = X_test.astype('float32')"
   ]
  },
  {
   "cell_type": "markdown",
   "metadata": {},
   "source": [
    "### 8.  Convert Class Vectors to Binary Class Matrices\n",
    "Convert the class vectors to binary class matrices using the to_categorical function."
   ]
  },
  {
   "cell_type": "code",
   "execution_count": 8,
   "metadata": {},
   "outputs": [],
   "source": [
    "# Convert class vectors to binary class matrices\n",
    "y_train = to_categorical(y_train, 10)\n",
    "y_test = to_categorical(y_test, 10)"
   ]
  },
  {
   "cell_type": "markdown",
   "metadata": {},
   "source": [
    "### 9.  Define the CNN Model Architecture\n",
    "Define the architecture of the model, including Conv2D, MaxPooling2D, Flatten, and Dense layers."
   ]
  },
  {
   "cell_type": "code",
   "execution_count": 9,
   "metadata": {},
   "outputs": [],
   "source": [
    "# Define the model architecture\n",
    "model = Sequential()\n",
    "# Add a Conv2D layer with 128 filters, a 3x3 kernel, and 'relu' activation function\n",
    "model.add(Conv2D(128, kernel_size=(3, 3), activation='relu', input_shape=(28, 28, 1)))\n",
    "# Add a MaxPooling2D layer with a 2x2 pool size\n",
    "model.add(MaxPooling2D(pool_size=(2, 2)))\n",
    "# Add a Conv2D layer with 256 filters, a 3x3 kernel, and 'relu' activation function\n",
    "model.add(Conv2D(256, kernel_size=(3, 3), activation='relu'))\n",
    "# Add a MaxPooling2D layer with a 2x2 pool size\n",
    "model.add(MaxPooling2D(pool_size=(2, 2)))\n",
    "# Add a Conv2D layer with 512 filters, a 3x3 kernel, and 'relu' activation function\n",
    "model.add(Conv2D(512, kernel_size=(3, 3), activation='relu'))\n",
    "# Add a MaxPooling2D layer with a 2x2 pool size\n",
    "model.add(MaxPooling2D(pool_size=(2, 2)))\n",
    "# Flatten the tensor output from the previous layer\n",
    "model.add(Flatten())\n",
    "# Add a Dense layer with 128 units and 'relu' activation function\n",
    "model.add(Dense(128, activation='relu'))\n",
    "# Add a Dense layer with 10 units (for the 10 classes) and 'softmax' activation function\n",
    "model.add(Dense(10, activation='softmax'))"
   ]
  },
  {
   "cell_type": "markdown",
   "metadata": {},
   "source": [
    "### 10.  Compile the Model\n",
    "Compile the model using the categorical crossentropy loss, Adam optimizer, and accuracy as the metric."
   ]
  },
  {
   "cell_type": "code",
   "execution_count": 10,
   "metadata": {},
   "outputs": [],
   "source": [
    "# Compile the model\n",
    "model.compile(loss=keras.losses.categorical_crossentropy, optimizer=keras.optimizers.Adam(), metrics=['accuracy'])"
   ]
  },
  {
   "cell_type": "markdown",
   "metadata": {},
   "source": [
    "### 11.  Train the Model\n",
    "Train the model using the training data, with a batch size of 128 and for 100 epochs."
   ]
  },
  {
   "cell_type": "code",
   "execution_count": 11,
   "metadata": {},
   "outputs": [
    {
     "name": "stdout",
     "output_type": "stream",
     "text": [
      "Epoch 1/100\n",
      "5/5 [==============================] - 2s 152ms/step - loss: 2.2750 - accuracy: 0.1817\n",
      "Epoch 2/100\n",
      "5/5 [==============================] - 1s 304ms/step - loss: 2.0035 - accuracy: 0.4067\n",
      "Epoch 3/100\n",
      "5/5 [==============================] - 1s 288ms/step - loss: 1.4860 - accuracy: 0.5317\n",
      "Epoch 4/100\n",
      "5/5 [==============================] - 1s 249ms/step - loss: 0.9843 - accuracy: 0.7117\n",
      "Epoch 5/100\n",
      "5/5 [==============================] - 1s 178ms/step - loss: 0.7396 - accuracy: 0.7683\n",
      "Epoch 6/100\n",
      "5/5 [==============================] - 1s 175ms/step - loss: 0.5790 - accuracy: 0.8333\n",
      "Epoch 7/100\n",
      "5/5 [==============================] - 1s 174ms/step - loss: 0.4087 - accuracy: 0.8750\n",
      "Epoch 8/100\n",
      "5/5 [==============================] - 1s 198ms/step - loss: 0.3440 - accuracy: 0.8983\n",
      "Epoch 9/100\n",
      "5/5 [==============================] - 1s 183ms/step - loss: 0.3071 - accuracy: 0.9067\n",
      "Epoch 10/100\n",
      "5/5 [==============================] - 1s 188ms/step - loss: 0.2124 - accuracy: 0.9350\n",
      "Epoch 11/100\n",
      "5/5 [==============================] - 1s 188ms/step - loss: 0.1571 - accuracy: 0.9517\n",
      "Epoch 12/100\n",
      "5/5 [==============================] - 1s 203ms/step - loss: 0.1314 - accuracy: 0.9600\n",
      "Epoch 13/100\n",
      "5/5 [==============================] - 1s 192ms/step - loss: 0.0870 - accuracy: 0.9833\n",
      "Epoch 14/100\n",
      "5/5 [==============================] - 1s 175ms/step - loss: 0.0580 - accuracy: 0.9867\n",
      "Epoch 15/100\n",
      "5/5 [==============================] - 1s 180ms/step - loss: 0.0429 - accuracy: 0.9950\n",
      "Epoch 16/100\n",
      "5/5 [==============================] - 1s 191ms/step - loss: 0.0393 - accuracy: 0.9900\n",
      "Epoch 17/100\n",
      "5/5 [==============================] - 1s 186ms/step - loss: 0.0295 - accuracy: 0.9983\n",
      "Epoch 18/100\n",
      "5/5 [==============================] - 1s 304ms/step - loss: 0.0196 - accuracy: 0.9983\n",
      "Epoch 19/100\n",
      "5/5 [==============================] - 1s 240ms/step - loss: 0.0138 - accuracy: 0.9983\n",
      "Epoch 20/100\n",
      "5/5 [==============================] - 1s 209ms/step - loss: 0.0123 - accuracy: 1.0000\n",
      "Epoch 21/100\n",
      "5/5 [==============================] - 1s 191ms/step - loss: 0.0081 - accuracy: 1.0000\n",
      "Epoch 22/100\n",
      "5/5 [==============================] - 1s 233ms/step - loss: 0.0071 - accuracy: 0.9983\n",
      "Epoch 23/100\n",
      "5/5 [==============================] - 1s 236ms/step - loss: 0.0052 - accuracy: 1.0000\n",
      "Epoch 24/100\n",
      "5/5 [==============================] - 1s 221ms/step - loss: 0.0043 - accuracy: 1.0000\n",
      "Epoch 25/100\n",
      "5/5 [==============================] - 1s 246ms/step - loss: 0.0029 - accuracy: 1.0000\n",
      "Epoch 26/100\n",
      "5/5 [==============================] - 1s 225ms/step - loss: 0.0024 - accuracy: 1.0000\n",
      "Epoch 27/100\n",
      "5/5 [==============================] - 1s 221ms/step - loss: 0.0022 - accuracy: 1.0000\n",
      "Epoch 28/100\n",
      "5/5 [==============================] - 1s 242ms/step - loss: 0.0019 - accuracy: 1.0000\n",
      "Epoch 29/100\n",
      "5/5 [==============================] - 1s 212ms/step - loss: 0.0017 - accuracy: 1.0000\n",
      "Epoch 30/100\n",
      "5/5 [==============================] - 1s 209ms/step - loss: 0.0016 - accuracy: 1.0000\n",
      "Epoch 31/100\n",
      "5/5 [==============================] - 1s 180ms/step - loss: 0.0015 - accuracy: 1.0000\n",
      "Epoch 32/100\n",
      "5/5 [==============================] - 1s 179ms/step - loss: 0.0014 - accuracy: 1.0000\n",
      "Epoch 33/100\n",
      "5/5 [==============================] - 1s 181ms/step - loss: 0.0013 - accuracy: 1.0000\n",
      "Epoch 34/100\n",
      "5/5 [==============================] - 1s 195ms/step - loss: 0.0012 - accuracy: 1.0000\n",
      "Epoch 35/100\n",
      "5/5 [==============================] - 1s 229ms/step - loss: 0.0011 - accuracy: 1.0000\n",
      "Epoch 36/100\n",
      "5/5 [==============================] - 1s 212ms/step - loss: 0.0011 - accuracy: 1.0000\n",
      "Epoch 37/100\n",
      "5/5 [==============================] - 1s 202ms/step - loss: 0.0010 - accuracy: 1.0000\n",
      "Epoch 38/100\n",
      "5/5 [==============================] - 1s 196ms/step - loss: 9.7427e-04 - accuracy: 1.0000\n",
      "Epoch 39/100\n",
      "5/5 [==============================] - 1s 228ms/step - loss: 9.3234e-04 - accuracy: 1.0000\n",
      "Epoch 40/100\n",
      "5/5 [==============================] - 1s 221ms/step - loss: 8.7301e-04 - accuracy: 1.0000\n",
      "Epoch 41/100\n",
      "5/5 [==============================] - 1s 201ms/step - loss: 8.3230e-04 - accuracy: 1.0000\n",
      "Epoch 42/100\n",
      "5/5 [==============================] - 1s 216ms/step - loss: 7.9777e-04 - accuracy: 1.0000\n",
      "Epoch 43/100\n",
      "5/5 [==============================] - 1s 198ms/step - loss: 7.6397e-04 - accuracy: 1.0000\n",
      "Epoch 44/100\n",
      "5/5 [==============================] - 1s 207ms/step - loss: 7.2715e-04 - accuracy: 1.0000\n",
      "Epoch 45/100\n",
      "5/5 [==============================] - 1s 249ms/step - loss: 7.0489e-04 - accuracy: 1.0000\n",
      "Epoch 46/100\n",
      "5/5 [==============================] - 1s 220ms/step - loss: 6.6575e-04 - accuracy: 1.0000\n",
      "Epoch 47/100\n",
      "5/5 [==============================] - 1s 212ms/step - loss: 6.4563e-04 - accuracy: 1.0000\n",
      "Epoch 48/100\n",
      "5/5 [==============================] - 1s 213ms/step - loss: 6.2047e-04 - accuracy: 1.0000\n",
      "Epoch 49/100\n",
      "5/5 [==============================] - 1s 220ms/step - loss: 5.9517e-04 - accuracy: 1.0000\n",
      "Epoch 50/100\n",
      "5/5 [==============================] - 1s 216ms/step - loss: 5.7466e-04 - accuracy: 1.0000\n",
      "Epoch 51/100\n",
      "5/5 [==============================] - 1s 210ms/step - loss: 5.5016e-04 - accuracy: 1.0000\n",
      "Epoch 52/100\n",
      "5/5 [==============================] - 1s 196ms/step - loss: 5.3737e-04 - accuracy: 1.0000\n",
      "Epoch 53/100\n",
      "5/5 [==============================] - 1s 237ms/step - loss: 5.1685e-04 - accuracy: 1.0000\n",
      "Epoch 54/100\n",
      "5/5 [==============================] - 1s 200ms/step - loss: 4.9484e-04 - accuracy: 1.0000\n",
      "Epoch 55/100\n",
      "5/5 [==============================] - 1s 208ms/step - loss: 4.8137e-04 - accuracy: 1.0000\n",
      "Epoch 56/100\n",
      "5/5 [==============================] - 1s 213ms/step - loss: 4.6392e-04 - accuracy: 1.0000\n",
      "Epoch 57/100\n",
      "5/5 [==============================] - 1s 208ms/step - loss: 4.4798e-04 - accuracy: 1.0000\n",
      "Epoch 58/100\n",
      "5/5 [==============================] - 1s 208ms/step - loss: 4.3429e-04 - accuracy: 1.0000\n",
      "Epoch 59/100\n",
      "5/5 [==============================] - 1s 224ms/step - loss: 4.2182e-04 - accuracy: 1.0000\n",
      "Epoch 60/100\n",
      "5/5 [==============================] - 1s 233ms/step - loss: 4.0772e-04 - accuracy: 1.0000\n",
      "Epoch 61/100\n",
      "5/5 [==============================] - 1s 225ms/step - loss: 3.9587e-04 - accuracy: 1.0000\n",
      "Epoch 62/100\n",
      "5/5 [==============================] - 1s 216ms/step - loss: 3.8877e-04 - accuracy: 1.0000\n",
      "Epoch 63/100\n",
      "5/5 [==============================] - 1s 279ms/step - loss: 3.7197e-04 - accuracy: 1.0000\n",
      "Epoch 64/100\n",
      "5/5 [==============================] - 1s 232ms/step - loss: 3.6057e-04 - accuracy: 1.0000\n",
      "Epoch 65/100\n",
      "5/5 [==============================] - 1s 216ms/step - loss: 3.5453e-04 - accuracy: 1.0000\n",
      "Epoch 66/100\n",
      "5/5 [==============================] - 1s 229ms/step - loss: 3.4301e-04 - accuracy: 1.0000\n",
      "Epoch 67/100\n",
      "5/5 [==============================] - 1s 221ms/step - loss: 3.3165e-04 - accuracy: 1.0000\n",
      "Epoch 68/100\n",
      "5/5 [==============================] - 1s 196ms/step - loss: 3.2580e-04 - accuracy: 1.0000\n",
      "Epoch 69/100\n",
      "5/5 [==============================] - 1s 210ms/step - loss: 3.1558e-04 - accuracy: 1.0000\n",
      "Epoch 70/100\n",
      "5/5 [==============================] - 1s 213ms/step - loss: 3.0585e-04 - accuracy: 1.0000\n",
      "Epoch 71/100\n",
      "5/5 [==============================] - 1s 216ms/step - loss: 2.9818e-04 - accuracy: 1.0000\n",
      "Epoch 72/100\n",
      "5/5 [==============================] - 1s 234ms/step - loss: 2.9073e-04 - accuracy: 1.0000\n",
      "Epoch 73/100\n",
      "5/5 [==============================] - 1s 217ms/step - loss: 2.8145e-04 - accuracy: 1.0000\n",
      "Epoch 74/100\n",
      "5/5 [==============================] - 1s 212ms/step - loss: 2.7553e-04 - accuracy: 1.0000\n",
      "Epoch 75/100\n",
      "5/5 [==============================] - 1s 208ms/step - loss: 2.6751e-04 - accuracy: 1.0000\n",
      "Epoch 76/100\n",
      "5/5 [==============================] - 1s 208ms/step - loss: 2.6205e-04 - accuracy: 1.0000\n",
      "Epoch 77/100\n",
      "5/5 [==============================] - 1s 202ms/step - loss: 2.5494e-04 - accuracy: 1.0000\n",
      "Epoch 78/100\n",
      "5/5 [==============================] - 1s 213ms/step - loss: 2.4914e-04 - accuracy: 1.0000\n",
      "Epoch 79/100\n",
      "5/5 [==============================] - 1s 205ms/step - loss: 2.4331e-04 - accuracy: 1.0000\n",
      "Epoch 80/100\n",
      "5/5 [==============================] - 1s 209ms/step - loss: 2.3726e-04 - accuracy: 1.0000\n",
      "Epoch 81/100\n",
      "5/5 [==============================] - 1s 246ms/step - loss: 2.3232e-04 - accuracy: 1.0000\n",
      "Epoch 82/100\n",
      "5/5 [==============================] - 1s 211ms/step - loss: 2.2668e-04 - accuracy: 1.0000\n",
      "Epoch 83/100\n",
      "5/5 [==============================] - 1s 212ms/step - loss: 2.2267e-04 - accuracy: 1.0000\n",
      "Epoch 84/100\n",
      "5/5 [==============================] - 1s 213ms/step - loss: 2.1638e-04 - accuracy: 1.0000\n",
      "Epoch 85/100\n",
      "5/5 [==============================] - 1s 212ms/step - loss: 2.1192e-04 - accuracy: 1.0000\n",
      "Epoch 86/100\n",
      "5/5 [==============================] - 1s 225ms/step - loss: 2.0789e-04 - accuracy: 1.0000\n",
      "Epoch 87/100\n",
      "5/5 [==============================] - 1s 208ms/step - loss: 2.0306e-04 - accuracy: 1.0000\n",
      "Epoch 88/100\n",
      "5/5 [==============================] - 1s 210ms/step - loss: 1.9876e-04 - accuracy: 1.0000\n",
      "Epoch 89/100\n",
      "5/5 [==============================] - 1s 208ms/step - loss: 1.9426e-04 - accuracy: 1.0000\n",
      "Epoch 90/100\n",
      "5/5 [==============================] - 1s 237ms/step - loss: 1.9007e-04 - accuracy: 1.0000\n",
      "Epoch 91/100\n",
      "5/5 [==============================] - 1s 225ms/step - loss: 1.8687e-04 - accuracy: 1.0000\n",
      "Epoch 92/100\n",
      "5/5 [==============================] - 1s 199ms/step - loss: 1.8244e-04 - accuracy: 1.0000\n",
      "Epoch 93/100\n",
      "5/5 [==============================] - 1s 220ms/step - loss: 1.7947e-04 - accuracy: 1.0000\n",
      "Epoch 94/100\n",
      "5/5 [==============================] - 1s 216ms/step - loss: 1.7542e-04 - accuracy: 1.0000\n",
      "Epoch 95/100\n",
      "5/5 [==============================] - 1s 213ms/step - loss: 1.7154e-04 - accuracy: 1.0000\n",
      "Epoch 96/100\n",
      "5/5 [==============================] - 1s 208ms/step - loss: 1.6887e-04 - accuracy: 1.0000\n",
      "Epoch 97/100\n",
      "5/5 [==============================] - 1s 223ms/step - loss: 1.6562e-04 - accuracy: 1.0000\n",
      "Epoch 98/100\n",
      "5/5 [==============================] - 1s 212ms/step - loss: 1.6215e-04 - accuracy: 1.0000\n",
      "Epoch 99/100\n",
      "5/5 [==============================] - 1s 226ms/step - loss: 1.5824e-04 - accuracy: 1.0000\n",
      "Epoch 100/100\n",
      "5/5 [==============================] - 1s 204ms/step - loss: 1.5564e-04 - accuracy: 1.0000\n"
     ]
    },
    {
     "data": {
      "text/plain": [
       "<keras.callbacks.History at 0x210f1ff1d80>"
      ]
     },
     "execution_count": 11,
     "metadata": {},
     "output_type": "execute_result"
    }
   ],
   "source": [
    "# Train the model\n",
    "model.fit(X_train, y_train, batch_size=128, epochs=100, verbose=1)"
   ]
  },
  {
   "cell_type": "markdown",
   "metadata": {},
   "source": [
    "### 12.  Evaluate the Model on Training Data\n",
    "Evaluate the model on the training data and print the training accuracy."
   ]
  },
  {
   "cell_type": "code",
   "execution_count": 12,
   "metadata": {},
   "outputs": [
    {
     "name": "stdout",
     "output_type": "stream",
     "text": [
      "Training Accuracy: 1.0\n"
     ]
    }
   ],
   "source": [
    "# Evaluate the model on training data\n",
    "train_loss, train_accuracy = model.evaluate(X_train, y_train, verbose=0)\n",
    "\n",
    "# Print the training accuracy\n",
    "print(f\"Training Accuracy: {train_accuracy}\")"
   ]
  },
  {
   "cell_type": "markdown",
   "metadata": {},
   "source": [
    "### 13.  Evaluate the Model on Test Data\n",
    "Evaluate the model on the test data and print the test accuracy."
   ]
  },
  {
   "cell_type": "code",
   "execution_count": 13,
   "metadata": {},
   "outputs": [
    {
     "name": "stdout",
     "output_type": "stream",
     "text": [
      "Test Accuracy: 0.7900000214576721\n"
     ]
    }
   ],
   "source": [
    "# Evaluate the model on test data\n",
    "test_loss, test_accuracy = model.evaluate(X_test, y_test, verbose=0)\n",
    "\n",
    "# Print the test accuracy\n",
    "print(f\"Test Accuracy: {test_accuracy}\")"
   ]
  }
 ],
 "metadata": {
  "kernelspec": {
   "display_name": "base",
   "language": "python",
   "name": "python3"
  },
  "language_info": {
   "codemirror_mode": {
    "name": "ipython",
    "version": 3
   },
   "file_extension": ".py",
   "mimetype": "text/x-python",
   "name": "python",
   "nbconvert_exporter": "python",
   "pygments_lexer": "ipython3",
   "version": "3.10.9"
  }
 },
 "nbformat": 4,
 "nbformat_minor": 2
}
