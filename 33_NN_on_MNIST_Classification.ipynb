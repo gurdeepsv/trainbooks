{
 "cells": [
  {
   "cell_type": "markdown",
   "metadata": {},
   "source": [
    "### 1.  Import Required Libraries\n",
    "Import the necessary libraries, including matplotlib, keras, numpy, sklearn."
   ]
  },
  {
   "cell_type": "code",
   "execution_count": 1,
   "metadata": {},
   "outputs": [],
   "source": [
    "# Importing the required libraries\n",
    "import matplotlib.pyplot as plt\n",
    "from keras.datasets import mnist\n",
    "import numpy as np\n",
    "from sklearn.preprocessing import StandardScaler\n",
    "from sklearn.preprocessing import MinMaxScaler\n",
    "from sklearn.model_selection import train_test_split\n",
    "from keras.models import Sequential\n",
    "from keras.layers import Dense"
   ]
  },
  {
   "cell_type": "markdown",
   "metadata": {},
   "source": [
    "### 2.  Load MNIST Dataset\n",
    "Load the MNIST dataset using keras.datasets."
   ]
  },
  {
   "cell_type": "code",
   "execution_count": 2,
   "metadata": {},
   "outputs": [],
   "source": [
    "# Load MNIST dataset\n",
    "(X_train, y_train), (X_test, y_test) = mnist.load_data()"
   ]
  },
  {
   "cell_type": "markdown",
   "metadata": {},
   "source": [
    "### 3.  Create a Subset Dataset\n",
    "Create a new subset dataset for training and testing."
   ]
  },
  {
   "cell_type": "code",
   "execution_count": 3,
   "metadata": {},
   "outputs": [],
   "source": [
    "# Create a new subset dataset\n",
    "subset_train_indices = []\n",
    "subset_test_indices = []\n",
    "for class_label in range(10):\n",
    "    class_indices = np.where(y_train == class_label)[0]\n",
    "    subset_train_indices.extend(class_indices[:60])\n",
    "    class_indices = np.where(y_test == class_label)[0]\n",
    "    subset_test_indices.extend(class_indices[60:70])\n",
    "\n",
    "X_train = X_train[subset_train_indices]\n",
    "y_train = y_train[subset_train_indices]\n",
    "X_test = X_test[subset_test_indices]\n",
    "y_test = y_test[subset_test_indices]"
   ]
  },
  {
   "cell_type": "markdown",
   "metadata": {},
   "source": [
    "### 4.  Check the dataset shape"
   ]
  },
  {
   "cell_type": "code",
   "execution_count": 4,
   "metadata": {},
   "outputs": [
    {
     "data": {
      "text/plain": [
       "((600, 28, 28), (100, 28, 28))"
      ]
     },
     "execution_count": 4,
     "metadata": {},
     "output_type": "execute_result"
    }
   ],
   "source": [
    "X_train.shape, X_test.shape"
   ]
  },
  {
   "cell_type": "markdown",
   "metadata": {},
   "source": [
    "### 5.  Display the Length of Each Part\n",
    "Display the length of subset training data and testing data."
   ]
  },
  {
   "cell_type": "code",
   "execution_count": 5,
   "metadata": {},
   "outputs": [
    {
     "name": "stdout",
     "output_type": "stream",
     "text": [
      "Length of subset training data: 600\n",
      "Length of subset testing data: 100\n"
     ]
    }
   ],
   "source": [
    "# Display the length of each part\n",
    "print(f\"Length of subset training data: {len(X_train)}\")\n",
    "print(f\"Length of subset testing data: {len(X_test)}\")"
   ]
  },
  {
   "cell_type": "code",
   "execution_count": 6,
   "metadata": {},
   "outputs": [
    {
     "name": "stdout",
     "output_type": "stream",
     "text": [
      "Number of instances for class 0 in training set: 60\n",
      "Number of instances for class 1 in training set: 60\n",
      "Number of instances for class 2 in training set: 60\n",
      "Number of instances for class 3 in training set: 60\n",
      "Number of instances for class 4 in training set: 60\n",
      "Number of instances for class 5 in training set: 60\n",
      "Number of instances for class 6 in training set: 60\n",
      "Number of instances for class 7 in training set: 60\n",
      "Number of instances for class 8 in training set: 60\n",
      "Number of instances for class 9 in training set: 60\n",
      "Number of instances for class 0 in test set: 10\n",
      "Number of instances for class 1 in test set: 10\n",
      "Number of instances for class 2 in test set: 10\n",
      "Number of instances for class 3 in test set: 10\n",
      "Number of instances for class 4 in test set: 10\n",
      "Number of instances for class 5 in test set: 10\n",
      "Number of instances for class 6 in test set: 10\n",
      "Number of instances for class 7 in test set: 10\n",
      "Number of instances for class 8 in test set: 10\n",
      "Number of instances for class 9 in test set: 10\n",
      "Length of subset training data: 600\n",
      "Length of subset testing data: 100\n"
     ]
    }
   ],
   "source": [
    "# Display the number of instances for each class in the training set\n",
    "for i in range(10):\n",
    "    print(f\"Number of instances for class {i} in training set: {sum(y_train == i)}\")\n",
    "\n",
    "# Display the number of instances for each class in the test set\n",
    "for i in range(10):\n",
    "    print(f\"Number of instances for class {i} in test set: {sum(y_test == i)}\")\n",
    "\n",
    "# Display the length of the subset training data\n",
    "print(f\"Length of subset training data: {len(X_train)}\")\n",
    "\n",
    "# Display the length of the subset testing data\n",
    "print(f\"Length of subset testing data: {len(X_test)}\")"
   ]
  },
  {
   "cell_type": "markdown",
   "metadata": {},
   "source": [
    "### 6.  Display Random Images in a Grid\n",
    "Display random images from the training set in a grid using matplotlib."
   ]
  },
  {
   "cell_type": "code",
   "execution_count": 7,
   "metadata": {},
   "outputs": [
    {
     "data": {
      "image/png": "[encoded data removed]",
      "text/plain": [
       "<Figure size 500x500 with 9 Axes>"
      ]
     },
     "metadata": {},
     "output_type": "display_data"
    }
   ],
   "source": [
    "# Display random images in a grid\n",
    "fig, axes = plt.subplots(3, 3, figsize=(5, 5))  # Create a 3x3 grid of subplots\n",
    "for i, ax in enumerate(axes.flat):  # Loop over the flattened array of axes\n",
    "    index = np.random.randint(0, X_train.shape[0])  # Generate a random index\n",
    "    image = X_train[index]  # Get the image at the random index\n",
    "    ax.imshow(image, cmap='gray')  # Display the image in grayscale\n",
    "    ax.set_title(f'Label: {y_train[index]}')  # Set the title of the subplot to the label of the image\n",
    "plt.tight_layout()  # Adjust the layout so that there are no overlaps\n",
    "plt.show()  # Display the plot"
   ]
  },
  {
   "cell_type": "markdown",
   "metadata": {},
   "source": [
    "### 7.  Flatten the Images\n",
    "Flatten the images from the training and testing set."
   ]
  },
  {
   "cell_type": "code",
   "execution_count": 8,
   "metadata": {},
   "outputs": [],
   "source": [
    "# Flatten the images from the training and testing set\n",
    "X_train_flat = X_train.reshape(X_train.shape[0], -1)\n",
    "X_test_flat = X_test.reshape(X_test.shape[0], -1)"
   ]
  },
  {
   "cell_type": "markdown",
   "metadata": {},
   "source": [
    "### 8.  Check the flattened dataset shape"
   ]
  },
  {
   "cell_type": "code",
   "execution_count": 9,
   "metadata": {},
   "outputs": [
    {
     "data": {
      "text/plain": [
       "((600, 784), (100, 784))"
      ]
     },
     "execution_count": 9,
     "metadata": {},
     "output_type": "execute_result"
    }
   ],
   "source": [
    "X_train_flat.shape, X_test_flat.shape"
   ]
  },
  {
   "cell_type": "markdown",
   "metadata": {},
   "source": [
    "### 9.  Create and Train the Neural Network Classifier\n",
    "Create and train the neural network classifier using keras."
   ]
  },
  {
   "cell_type": "code",
   "execution_count": 10,
   "metadata": {},
   "outputs": [],
   "source": [
    "# Create and train the neural network classifier\n",
    "model = Sequential()  # Initialize the model\n",
    "model.add(Dense(128, activation='relu', input_shape=(X_train_flat.shape[1],)))  # Add the first layer with 128 nodes and 'relu' activation function\n",
    "model.add(Dense(64, activation='relu', input_shape=(X_train_flat.shape[1],)))  # Add the first layer with 64 nodes and 'relu' activation function\n",
    "model.add(Dense(10, activation='softmax'))  # Add the output layer with 10 nodes (for 10 classes) and 'softmax' activation function"
   ]
  },
  {
   "cell_type": "markdown",
   "metadata": {},
   "source": [
    "### 10.  Compile the model\n"
   ]
  },
  {
   "cell_type": "code",
   "execution_count": 11,
   "metadata": {},
   "outputs": [],
   "source": [
    "model.compile(optimizer='adam',  # Use 'adam' optimizer\n",
    "              loss='sparse_categorical_crossentropy',  # Use 'sparse_categorical_crossentropy' loss function\n",
    "              metrics=['accuracy'])  # Use accuracy as the metric"
   ]
  },
  {
   "cell_type": "markdown",
   "metadata": {},
   "source": [
    "### 11.  Train the model\n"
   ]
  },
  {
   "cell_type": "code",
   "execution_count": 13,
   "metadata": {},
   "outputs": [
    {
     "name": "stdout",
     "output_type": "stream",
     "text": [
      "Epoch 1/20\n",
      "19/19 [==============================] - 1s 3ms/step - loss: 49.4607 - accuracy: 0.3450\n",
      "Epoch 2/20\n",
      "19/19 [==============================] - 0s 2ms/step - loss: 6.9319 - accuracy: 0.7283\n",
      "Epoch 3/20\n",
      "19/19 [==============================] - 0s 2ms/step - loss: 2.3068 - accuracy: 0.8583\n",
      "Epoch 4/20\n",
      "19/19 [==============================] - 0s 2ms/step - loss: 0.8592 - accuracy: 0.9250\n",
      "Epoch 5/20\n",
      "19/19 [==============================] - 0s 2ms/step - loss: 0.4625 - accuracy: 0.9400\n",
      "Epoch 6/20\n",
      "19/19 [==============================] - 0s 2ms/step - loss: 0.0955 - accuracy: 0.9833\n",
      "Epoch 7/20\n",
      "19/19 [==============================] - 0s 2ms/step - loss: 0.0331 - accuracy: 0.9867\n",
      "Epoch 8/20\n",
      "19/19 [==============================] - 0s 2ms/step - loss: 0.0118 - accuracy: 0.9967\n",
      "Epoch 9/20\n",
      "19/19 [==============================] - 0s 2ms/step - loss: 0.0049 - accuracy: 0.9983\n",
      "Epoch 10/20\n",
      "19/19 [==============================] - 0s 2ms/step - loss: 6.2600e-04 - accuracy: 1.0000\n",
      "Epoch 11/20\n",
      "19/19 [==============================] - 0s 2ms/step - loss: 0.0051 - accuracy: 0.9967\n",
      "Epoch 12/20\n",
      "19/19 [==============================] - 0s 1ms/step - loss: 4.8481e-04 - accuracy: 1.0000\n",
      "Epoch 13/20\n",
      "19/19 [==============================] - 0s 2ms/step - loss: 5.9272e-05 - accuracy: 1.0000\n",
      "Epoch 14/20\n",
      "19/19 [==============================] - 0s 2ms/step - loss: 4.2510e-05 - accuracy: 1.0000\n",
      "Epoch 15/20\n",
      "19/19 [==============================] - 0s 2ms/step - loss: 3.2193e-05 - accuracy: 1.0000\n",
      "Epoch 16/20\n",
      "19/19 [==============================] - 0s 2ms/step - loss: 2.6855e-05 - accuracy: 1.0000\n",
      "Epoch 17/20\n",
      "19/19 [==============================] - 0s 2ms/step - loss: 2.3650e-05 - accuracy: 1.0000\n",
      "Epoch 18/20\n",
      "19/19 [==============================] - 0s 2ms/step - loss: 2.1273e-05 - accuracy: 1.0000\n",
      "Epoch 19/20\n",
      "19/19 [==============================] - 0s 2ms/step - loss: 1.8565e-05 - accuracy: 1.0000\n",
      "Epoch 20/20\n",
      "19/19 [==============================] - 0s 3ms/step - loss: 1.7202e-05 - accuracy: 1.0000\n"
     ]
    },
    {
     "data": {
      "text/plain": [
       "<keras.callbacks.History at 0x20c0da99e10>"
      ]
     },
     "execution_count": 13,
     "metadata": {},
     "output_type": "execute_result"
    }
   ],
   "source": [
    "model.fit(X_train_flat, y_train, epochs=20, batch_size=32, verbose=1)  # Train the model for 10 epochs with a batch size of 32\n"
   ]
  },
  {
   "cell_type": "markdown",
   "metadata": {},
   "source": [
    "### 12.  Evaluate Accuracy on the Train and Test Set\n",
    "Evaluate the accuracy of the model on the train and test set."
   ]
  },
  {
   "cell_type": "code",
   "execution_count": 14,
   "metadata": {},
   "outputs": [
    {
     "name": "stdout",
     "output_type": "stream",
     "text": [
      "Neural Network Train Accuracy: 1.0\n",
      "Neural Network Test Accuracy: 0.6899999976158142\n"
     ]
    }
   ],
   "source": [
    "# Evaluate accuracy on the train set\n",
    "train_accuracy_nn = model.evaluate(X_train_flat, y_train, verbose=0)[1]\n",
    "print(f\"Neural Network Train Accuracy: {train_accuracy_nn}\")\n",
    "# Evaluate accuracy on the test set\n",
    "test_accuracy_nn = model.evaluate(X_test_flat, y_test, verbose=0)[1]\n",
    "print(f\"Neural Network Test Accuracy: {test_accuracy_nn}\")"
   ]
  },
  {
   "cell_type": "markdown",
   "metadata": {},
   "source": [
    "### 13.  Standardize the Data\n",
    "Standardize the data using sklearn's StandardScaler."
   ]
  },
  {
   "cell_type": "code",
   "execution_count": 15,
   "metadata": {},
   "outputs": [],
   "source": [
    "# Standardize the data\n",
    "scaler = StandardScaler()  # Initialize the StandardScaler\n",
    "X_train_scaled = scaler.fit_transform(X_train_flat)  # Fit and transform the training data\n",
    "X_test_scaled = scaler.transform(X_test_flat)  # Transform the testing data\n"
   ]
  },
  {
   "cell_type": "markdown",
   "metadata": {},
   "source": [
    "### 14.  Create and Train the Neural Network Classifier on standardised Data\n",
    "Create and train the neural network classifier on the standardized data."
   ]
  },
  {
   "cell_type": "code",
   "execution_count": 16,
   "metadata": {},
   "outputs": [],
   "source": [
    "# Create and train the neural network classifier on scaled data\n",
    "model_scaled = Sequential()  # Initialize the model\n",
    "model_scaled.add(Dense(128, activation='relu', input_shape=(X_train_scaled.shape[1],)))  # Add the first layer with 128 nodes and 'relu' activation function\n",
    "model_scaled.add(Dense(64, activation='relu'))  # Add the second layer with 64 nodes and 'relu' activation function\n",
    "model_scaled.add(Dense(10, activation='softmax'))  # Add the output layer with 10 nodes (for 10 classes) and 'softmax' activation function\n"
   ]
  },
  {
   "cell_type": "markdown",
   "metadata": {},
   "source": [
    "### 15.  Compile the model\n"
   ]
  },
  {
   "cell_type": "code",
   "execution_count": 17,
   "metadata": {},
   "outputs": [],
   "source": [
    "model_scaled.compile(optimizer='adam',  # Use 'adam' optimizer\n",
    "                     loss='sparse_categorical_crossentropy',  # Use 'sparse_categorical_crossentropy' loss function\n",
    "                     metrics=['accuracy'])  # Use accuracy as the metric\n"
   ]
  },
  {
   "cell_type": "markdown",
   "metadata": {},
   "source": [
    "### 16.  Train the model\n"
   ]
  },
  {
   "cell_type": "code",
   "execution_count": 18,
   "metadata": {},
   "outputs": [
    {
     "name": "stdout",
     "output_type": "stream",
     "text": [
      "Epoch 1/20\n",
      "19/19 [==============================] - 1s 3ms/step - loss: 1.6700 - accuracy: 0.4550\n",
      "Epoch 2/20\n",
      "19/19 [==============================] - 0s 3ms/step - loss: 0.5873 - accuracy: 0.8583\n",
      "Epoch 3/20\n",
      "19/19 [==============================] - 0s 2ms/step - loss: 0.2525 - accuracy: 0.9350\n",
      "Epoch 4/20\n",
      "19/19 [==============================] - 0s 2ms/step - loss: 0.1301 - accuracy: 0.9817\n",
      "Epoch 5/20\n",
      "19/19 [==============================] - 0s 2ms/step - loss: 0.0721 - accuracy: 0.9917\n",
      "Epoch 6/20\n",
      "19/19 [==============================] - 0s 2ms/step - loss: 0.0426 - accuracy: 1.0000\n",
      "Epoch 7/20\n",
      "19/19 [==============================] - 0s 2ms/step - loss: 0.0276 - accuracy: 1.0000\n",
      "Epoch 8/20\n",
      "19/19 [==============================] - 0s 2ms/step - loss: 0.0191 - accuracy: 1.0000\n",
      "Epoch 9/20\n",
      "19/19 [==============================] - 0s 5ms/step - loss: 0.0141 - accuracy: 1.0000\n",
      "Epoch 10/20\n",
      "19/19 [==============================] - 0s 3ms/step - loss: 0.0110 - accuracy: 1.0000\n",
      "Epoch 11/20\n",
      "19/19 [==============================] - 0s 3ms/step - loss: 0.0089 - accuracy: 1.0000\n",
      "Epoch 12/20\n",
      "19/19 [==============================] - 0s 3ms/step - loss: 0.0074 - accuracy: 1.0000\n",
      "Epoch 13/20\n",
      "19/19 [==============================] - 0s 3ms/step - loss: 0.0062 - accuracy: 1.0000\n",
      "Epoch 14/20\n",
      "19/19 [==============================] - 0s 2ms/step - loss: 0.0054 - accuracy: 1.0000\n",
      "Epoch 15/20\n",
      "19/19 [==============================] - 0s 2ms/step - loss: 0.0046 - accuracy: 1.0000\n",
      "Epoch 16/20\n",
      "19/19 [==============================] - 0s 2ms/step - loss: 0.0041 - accuracy: 1.0000\n",
      "Epoch 17/20\n",
      "19/19 [==============================] - 0s 2ms/step - loss: 0.0036 - accuracy: 1.0000\n",
      "Epoch 18/20\n",
      "19/19 [==============================] - 0s 3ms/step - loss: 0.0032 - accuracy: 1.0000\n",
      "Epoch 19/20\n",
      "19/19 [==============================] - 0s 2ms/step - loss: 0.0029 - accuracy: 1.0000\n",
      "Epoch 20/20\n",
      "19/19 [==============================] - 0s 2ms/step - loss: 0.0026 - accuracy: 1.0000\n"
     ]
    },
    {
     "data": {
      "text/plain": [
       "<keras.callbacks.History at 0x20c107438b0>"
      ]
     },
     "execution_count": 18,
     "metadata": {},
     "output_type": "execute_result"
    }
   ],
   "source": [
    "model_scaled.fit(X_train_scaled, y_train, epochs=20, batch_size=32, verbose=1)  # Train the model for 10 epochs with a batch size of 32\n"
   ]
  },
  {
   "cell_type": "markdown",
   "metadata": {},
   "source": [
    "### 17.  Evaluate Accuracy on the Train and Test Set\n"
   ]
  },
  {
   "cell_type": "code",
   "execution_count": 19,
   "metadata": {},
   "outputs": [
    {
     "name": "stdout",
     "output_type": "stream",
     "text": [
      "Neural Network Scaled Train Accuracy: 1.0\n",
      "Neural Network Scaled Test Accuracy: 0.8100000023841858\n"
     ]
    }
   ],
   "source": [
    "# Evaluate accuracy on the train set using scaled data\n",
    "train_accuracy_nn_scaled = model_scaled.evaluate(X_train_scaled, y_train, verbose=0)[1]  # Evaluate the model on the scaled training set\n",
    "print(f\"Neural Network Scaled Train Accuracy: {train_accuracy_nn_scaled}\")  # Print the training accuracy\n",
    "\n",
    "# Evaluate accuracy on the test set using scaled data\n",
    "test_accuracy_nn_scaled = model_scaled.evaluate(X_test_scaled, y_test, verbose=0)[1]  # Evaluate the model on the scaled testing set\n",
    "print(f\"Neural Network Scaled Test Accuracy: {test_accuracy_nn_scaled}\")  # Print the testing accuracy"
   ]
  },
  {
   "cell_type": "markdown",
   "metadata": {},
   "source": [
    "### 18.  Apply Min-Max Scaling to the Training and Test Data\n",
    "Apply Min-Max scaling to the training and test data using sklearn's MinMaxScaler."
   ]
  },
  {
   "cell_type": "code",
   "execution_count": 20,
   "metadata": {},
   "outputs": [],
   "source": [
    "# Initialize the MinMaxScaler\n",
    "mmscaler = MinMaxScaler()\n",
    "\n",
    "# Fit and transform the training data\n",
    "X_train_mmscaled = mmscaler.fit_transform(X_train_flat)\n",
    "\n",
    "# Transform the testing data\n",
    "X_test_mmscaled = mmscaler.transform(X_test_flat)"
   ]
  },
  {
   "cell_type": "markdown",
   "metadata": {},
   "source": [
    "### 19.  Define the model for min-max scaled dataset\n",
    "#### TODO: Try adding more layers to the Neural Network, see if accuracy improves"
   ]
  },
  {
   "cell_type": "code",
   "execution_count": 21,
   "metadata": {},
   "outputs": [],
   "source": [
    "# Create and train the neural network classifier on min-max scaled data\n",
    "model_mmscaled = Sequential()  # Initialize the model\n",
    "model_mmscaled.add(Dense(128, activation='relu', input_shape=(X_train_mmscaled.shape[1],)))  # Add the first layer with 128 nodes and 'relu' activation function\n",
    "model_mmscaled.add(Dense(64, activation='relu'))  # Add the second layer with 64 nodes and 'relu' activation function\n",
    "model_mmscaled.add(Dense(10, activation='softmax'))  # Add the output layer with 10 nodes (for 10 classes) and 'softmax' activation function\n"
   ]
  },
  {
   "cell_type": "markdown",
   "metadata": {},
   "source": [
    "### 20.  Compile the model"
   ]
  },
  {
   "cell_type": "code",
   "execution_count": 22,
   "metadata": {},
   "outputs": [],
   "source": [
    "# Compile the model\n",
    "model_mmscaled.compile(optimizer='adam',  # Use 'adam' optimizer\n",
    "                     loss='sparse_categorical_crossentropy',  # Use 'sparse_categorical_crossentropy' loss function\n",
    "                     metrics=['accuracy'])  # Use accuracy as the metric\n"
   ]
  },
  {
   "cell_type": "markdown",
   "metadata": {},
   "source": [
    "### 21.  Evaluate Accuracy on the Train and Test Set Using Scaled Data\n",
    "Evaluate the accuracy of the model on the train and test set using the standardized data."
   ]
  },
  {
   "cell_type": "code",
   "execution_count": 23,
   "metadata": {},
   "outputs": [
    {
     "name": "stdout",
     "output_type": "stream",
     "text": [
      "Epoch 1/20\n",
      "19/19 [==============================] - 1s 4ms/step - loss: 1.9199 - accuracy: 0.4267\n",
      "Epoch 2/20\n",
      "19/19 [==============================] - 0s 2ms/step - loss: 0.9779 - accuracy: 0.7933\n",
      "Epoch 3/20\n",
      "19/19 [==============================] - 0s 2ms/step - loss: 0.5156 - accuracy: 0.8817\n",
      "Epoch 4/20\n",
      "19/19 [==============================] - 0s 2ms/step - loss: 0.3346 - accuracy: 0.9133\n",
      "Epoch 5/20\n",
      "19/19 [==============================] - 0s 2ms/step - loss: 0.2320 - accuracy: 0.9400\n",
      "Epoch 6/20\n",
      "19/19 [==============================] - 0s 2ms/step - loss: 0.1618 - accuracy: 0.9683\n",
      "Epoch 7/20\n",
      "19/19 [==============================] - 0s 2ms/step - loss: 0.1178 - accuracy: 0.9833\n",
      "Epoch 8/20\n",
      "19/19 [==============================] - 0s 2ms/step - loss: 0.0858 - accuracy: 0.9917\n",
      "Epoch 9/20\n",
      "19/19 [==============================] - 0s 2ms/step - loss: 0.0654 - accuracy: 0.9967\n",
      "Epoch 10/20\n",
      "19/19 [==============================] - 0s 2ms/step - loss: 0.0464 - accuracy: 1.0000\n",
      "Epoch 11/20\n",
      "19/19 [==============================] - 0s 2ms/step - loss: 0.0357 - accuracy: 1.0000\n",
      "Epoch 12/20\n",
      "19/19 [==============================] - 0s 2ms/step - loss: 0.0284 - accuracy: 1.0000\n",
      "Epoch 13/20\n",
      "19/19 [==============================] - 0s 2ms/step - loss: 0.0227 - accuracy: 1.0000\n",
      "Epoch 14/20\n",
      "19/19 [==============================] - 0s 2ms/step - loss: 0.0189 - accuracy: 1.0000\n",
      "Epoch 15/20\n",
      "19/19 [==============================] - 0s 2ms/step - loss: 0.0156 - accuracy: 1.0000\n",
      "Epoch 16/20\n",
      "19/19 [==============================] - 0s 2ms/step - loss: 0.0131 - accuracy: 1.0000\n",
      "Epoch 17/20\n",
      "19/19 [==============================] - 0s 2ms/step - loss: 0.0113 - accuracy: 1.0000\n",
      "Epoch 18/20\n",
      "19/19 [==============================] - 0s 2ms/step - loss: 0.0099 - accuracy: 1.0000\n",
      "Epoch 19/20\n",
      "19/19 [==============================] - 0s 3ms/step - loss: 0.0086 - accuracy: 1.0000\n",
      "Epoch 20/20\n",
      "19/19 [==============================] - 0s 2ms/step - loss: 0.0076 - accuracy: 1.0000\n"
     ]
    },
    {
     "data": {
      "text/plain": [
       "<keras.callbacks.History at 0x20c111e0a60>"
      ]
     },
     "execution_count": 23,
     "metadata": {},
     "output_type": "execute_result"
    }
   ],
   "source": [
    "# Train the model\n",
    "model_mmscaled.fit(X_train_mmscaled, y_train, epochs=20, batch_size=32, verbose=1)  # Train the model for 10 epochs with a batch size of 32\n"
   ]
  },
  {
   "cell_type": "code",
   "execution_count": 24,
   "metadata": {},
   "outputs": [
    {
     "name": "stdout",
     "output_type": "stream",
     "text": [
      "Neural Network Min-Max Scaled Train Accuracy: 1.0\n",
      "Neural Network Min-Max Scaled Test Accuracy: 0.8299999833106995\n"
     ]
    }
   ],
   "source": [
    "# Evaluate accuracy on the train set using min-max scaled data\n",
    "train_accuracy_nn_mmscaled = model_mmscaled.evaluate(X_train_mmscaled, y_train, verbose=0)[1]  # Evaluate the model on the min-max scaled training set\n",
    "print(f\"Neural Network Min-Max Scaled Train Accuracy: {train_accuracy_nn_mmscaled}\")  # Print the training accuracy\n",
    "\n",
    "# Evaluate accuracy on the test set using min-max scaled data\n",
    "test_accuracy_nn_mmscaled = model_mmscaled.evaluate(X_test_mmscaled, y_test, verbose=0)[1]  # Evaluate the model on the min-max scaled testing set\n",
    "print(f\"Neural Network Min-Max Scaled Test Accuracy: {test_accuracy_nn_mmscaled}\")  # Print the testing accuracy"
   ]
  }
 ],
 "metadata": {
  "kernelspec": {
   "display_name": "base",
   "language": "python",
   "name": "python3"
  },
  "language_info": {
   "codemirror_mode": {
    "name": "ipython",
    "version": 3
   },
   "file_extension": ".py",
   "mimetype": "text/x-python",
   "name": "python",
   "nbconvert_exporter": "python",
   "pygments_lexer": "ipython3",
   "version": "3.10.9"
  }
 },
 "nbformat": 4,
 "nbformat_minor": 2
}
