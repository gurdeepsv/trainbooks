{
 "cells": [
  {
   "cell_type": "markdown",
   "metadata": {},
   "source": [
    "### 1.  Import Required Libraries\n",
    "Import the necessary libraries, including NumPy, pandas, Keras, and matplotlib."
   ]
  },
  {
   "cell_type": "code",
   "execution_count": 1,
   "metadata": {},
   "outputs": [],
   "source": [
    "# Importing the required libraries\n",
    "import numpy as np\n",
    "import pandas as pd\n",
    "from keras.models import Sequential\n",
    "from keras.layers import Dense, Input\n",
    "from keras.optimizers import Adam\n",
    "import matplotlib.pyplot as plt"
   ]
  },
  {
   "cell_type": "markdown",
   "metadata": {},
   "source": [
    "### 2.  Set Random Seed\n",
    "Set the random seed for reproducibility."
   ]
  },
  {
   "cell_type": "code",
   "execution_count": 2,
   "metadata": {},
   "outputs": [],
   "source": [
    "# Set the random seed for reproducibility\n",
    "np.random.seed(42)"
   ]
  },
  {
   "cell_type": "markdown",
   "metadata": {},
   "source": [
    "### 3.  Generate Dummy Data\n",
    "Generate dummy data for the independent and dependent variables."
   ]
  },
  {
   "cell_type": "code",
   "execution_count": 3,
   "metadata": {},
   "outputs": [
    {
     "data": {
      "image/png": "[encoded data removed]",
      "text/plain": [
       "<Figure size 640x480 with 1 Axes>"
      ]
     },
     "metadata": {},
     "output_type": "display_data"
    }
   ],
   "source": [
    "# Generate dummy data\n",
    "n = 29  # Number of datapoints\n",
    "x = np.linspace(2, 12, n)  # Independent variable\n",
    "y = 2 * x + np.random.normal(0, 2, n)  # Dependent variable with Gaussian noise\n",
    "\n",
    "# Create a DataFrame\n",
    "data = pd.DataFrame({'Depth (m)': x, 'Pressure (MPa)': y})  # Rename columns here with correct units\n",
    "\n",
    "# Plot the data\n",
    "plt.scatter(data['Depth (m)'], data['Pressure (MPa)'])\n",
    "plt.xlabel('Depth (in 1000 m)')\n",
    "plt.ylabel('Pressure (MPa)')\n",
    "plt.title('Pressure Vs Depth (Oil and Gas)')\n",
    "plt.show()"
   ]
  },
  {
   "cell_type": "markdown",
   "metadata": {},
   "source": [
    "### 4.  Create DataFrame\n",
    "Create a DataFrame from the generated data."
   ]
  },
  {
   "cell_type": "code",
   "execution_count": 4,
   "metadata": {},
   "outputs": [
    {
     "data": {
      "text/html": [
       "<div>\n",
       "<style scoped>\n",
       "    .dataframe tbody tr th:only-of-type {\n",
       "        vertical-align: middle;\n",
       "    }\n",
       "\n",
       "    .dataframe tbody tr th {\n",
       "        vertical-align: top;\n",
       "    }\n",
       "\n",
       "    .dataframe thead th {\n",
       "        text-align: right;\n",
       "    }\n",
       "</style>\n",
       "<table border=\"1\" class=\"dataframe\">\n",
       "  <thead>\n",
       "    <tr style=\"text-align: right;\">\n",
       "      <th></th>\n",
       "      <th>Depth (m)</th>\n",
       "      <th>Pressure (MPa)</th>\n",
       "    </tr>\n",
       "  </thead>\n",
       "  <tbody>\n",
       "    <tr>\n",
       "      <th>0</th>\n",
       "      <td>2.000000</td>\n",
       "      <td>4.993428</td>\n",
       "    </tr>\n",
       "    <tr>\n",
       "      <th>1</th>\n",
       "      <td>2.357143</td>\n",
       "      <td>4.437757</td>\n",
       "    </tr>\n",
       "    <tr>\n",
       "      <th>2</th>\n",
       "      <td>2.714286</td>\n",
       "      <td>6.723949</td>\n",
       "    </tr>\n",
       "    <tr>\n",
       "      <th>3</th>\n",
       "      <td>3.071429</td>\n",
       "      <td>9.188917</td>\n",
       "    </tr>\n",
       "    <tr>\n",
       "      <th>4</th>\n",
       "      <td>3.428571</td>\n",
       "      <td>6.388836</td>\n",
       "    </tr>\n",
       "  </tbody>\n",
       "</table>\n",
       "</div>"
      ],
      "text/plain": [
       "   Depth (m)  Pressure (MPa)\n",
       "0   2.000000        4.993428\n",
       "1   2.357143        4.437757\n",
       "2   2.714286        6.723949\n",
       "3   3.071429        9.188917\n",
       "4   3.428571        6.388836"
      ]
     },
     "execution_count": 4,
     "metadata": {},
     "output_type": "execute_result"
    }
   ],
   "source": [
    "# Create a DataFrame from the generated data\n",
    "data = pd.DataFrame({'Depth (m)': x, 'Pressure (MPa)': y})\n",
    "\n",
    "# Display the first few rows of the DataFrame\n",
    "data.head()"
   ]
  },
  {
   "cell_type": "markdown",
   "metadata": {},
   "source": [
    "### 5.  Define the Model\n",
    "Define the model using Keras. The model is a simple linear regression model with one input and one output."
   ]
  },
  {
   "cell_type": "code",
   "execution_count": 5,
   "metadata": {},
   "outputs": [],
   "source": [
    "# Define the model\n",
    "model = Sequential()  # Initialize a Sequential model\n",
    "model.add(Input(shape=(1,)))  # Add an Input layer with one input\n",
    "model.add(Dense(1))  # Add a Dense layer with one output"
   ]
  },
  {
   "cell_type": "markdown",
   "metadata": {},
   "source": [
    "### 6.  Compile the Model\n",
    "Compile the model with the Adam optimizer and mean squared error loss function."
   ]
  },
  {
   "cell_type": "code",
   "execution_count": 6,
   "metadata": {},
   "outputs": [],
   "source": [
    "# Define the optimizer\n",
    "optimizer = Adam(learning_rate=0.1)  # Use the Adam optimizer with a learning rate of 0.1\n",
    "\n",
    "# Compile the model\n",
    "model.compile(loss='mean_squared_error',  # Use mean squared error as the loss function\n",
    "              optimizer=optimizer,  # Use the defined optimizer\n",
    "              metrics=['mean_squared_error', 'mean_absolute_error'])  # Track mean squared error and mean absolute error during training\n",
    "\n",
    "# Question for students: What does each line in this code block do?\n",
    "# Prompt for students: Try changing the learning rate of the optimizer. How does it affect the model's performance?"
   ]
  },
  {
   "cell_type": "markdown",
   "metadata": {},
   "source": [
    "### 7.  Model summary"
   ]
  },
  {
   "cell_type": "code",
   "execution_count": 7,
   "metadata": {},
   "outputs": [
    {
     "name": "stdout",
     "output_type": "stream",
     "text": [
      "Model: \"sequential\"\n",
      "_________________________________________________________________\n",
      " Layer (type)                Output Shape              Param #   \n",
      "=================================================================\n",
      " dense (Dense)               (None, 1)                 2         \n",
      "                                                                 \n",
      "=================================================================\n",
      "Total params: 2\n",
      "Trainable params: 2\n",
      "Non-trainable params: 0\n",
      "_________________________________________________________________\n"
     ]
    }
   ],
   "source": [
    "model.summary()"
   ]
  },
  {
   "cell_type": "markdown",
   "metadata": {},
   "source": [
    "### 8.  Random Model Weights"
   ]
  },
  {
   "cell_type": "code",
   "execution_count": 8,
   "metadata": {},
   "outputs": [
    {
     "data": {
      "text/plain": [
       "[<tf.Variable 'dense/kernel:0' shape=(1, 1) dtype=float32, numpy=array([[0.07245672]], dtype=float32)>,\n",
       " <tf.Variable 'dense/bias:0' shape=(1,) dtype=float32, numpy=array([0.], dtype=float32)>]"
      ]
     },
     "execution_count": 8,
     "metadata": {},
     "output_type": "execute_result"
    }
   ],
   "source": [
    "model.weights"
   ]
  },
  {
   "cell_type": "markdown",
   "metadata": {},
   "source": [
    "### 9.  Fit the Model\n",
    "Fit the model to the data."
   ]
  },
  {
   "cell_type": "code",
   "execution_count": 9,
   "metadata": {},
   "outputs": [
    {
     "name": "stdout",
     "output_type": "stream",
     "text": [
      "Epoch 1/209\n",
      "1/1 [==============================] - 1s 611ms/step - loss: 201.2906 - mean_squared_error: 201.2906 - mean_absolute_error: 13.1237\n",
      "Epoch 2/209\n",
      "1/1 [==============================] - 0s 4ms/step - loss: 177.9614 - mean_squared_error: 177.9614 - mean_absolute_error: 12.3237\n",
      "Epoch 3/209\n",
      "1/1 [==============================] - 0s 2ms/step - loss: 156.1356 - mean_squared_error: 156.1356 - mean_absolute_error: 11.5253\n",
      "Epoch 4/209\n",
      "1/1 [==============================] - 0s 2ms/step - loss: 135.8356 - mean_squared_error: 135.8356 - mean_absolute_error: 10.7300\n",
      "Epoch 5/209\n",
      "1/1 [==============================] - 0s 4ms/step - loss: 117.0781 - mean_squared_error: 117.0781 - mean_absolute_error: 9.9391\n",
      "Epoch 6/209\n",
      "1/1 [==============================] - 0s 1ms/step - loss: 99.8722 - mean_squared_error: 99.8722 - mean_absolute_error: 9.1542\n",
      "Epoch 7/209\n",
      "1/1 [==============================] - 0s 3ms/step - loss: 84.2188 - mean_squared_error: 84.2188 - mean_absolute_error: 8.3771\n",
      "Epoch 8/209\n",
      "1/1 [==============================] - 0s 3ms/step - loss: 70.1100 - mean_squared_error: 70.1100 - mean_absolute_error: 7.6095\n",
      "Epoch 9/209\n",
      "1/1 [==============================] - 0s 2ms/step - loss: 57.5274 - mean_squared_error: 57.5274 - mean_absolute_error: 6.8535\n",
      "Epoch 10/209\n",
      "1/1 [==============================] - 0s 2ms/step - loss: 46.4419 - mean_squared_error: 46.4419 - mean_absolute_error: 6.1114\n",
      "Epoch 11/209\n",
      "1/1 [==============================] - 0s 3ms/step - loss: 36.8124 - mean_squared_error: 36.8124 - mean_absolute_error: 5.3855\n",
      "Epoch 12/209\n",
      "1/1 [==============================] - 0s 3ms/step - loss: 28.5854 - mean_squared_error: 28.5854 - mean_absolute_error: 4.6782\n",
      "Epoch 13/209\n",
      "1/1 [==============================] - 0s 3ms/step - loss: 21.6948 - mean_squared_error: 21.6948 - mean_absolute_error: 3.9922\n",
      "Epoch 14/209\n",
      "1/1 [==============================] - 0s 4ms/step - loss: 16.0618 - mean_squared_error: 16.0618 - mean_absolute_error: 3.3562\n",
      "Epoch 15/209\n",
      "1/1 [==============================] - 0s 2ms/step - loss: 11.5951 - mean_squared_error: 11.5951 - mean_absolute_error: 2.7968\n",
      "Epoch 16/209\n",
      "1/1 [==============================] - 0s 2ms/step - loss: 8.1924 - mean_squared_error: 8.1924 - mean_absolute_error: 2.2900\n",
      "Epoch 17/209\n",
      "1/1 [==============================] - 0s 2ms/step - loss: 5.7416 - mean_squared_error: 5.7416 - mean_absolute_error: 1.8491\n",
      "Epoch 18/209\n",
      "1/1 [==============================] - 0s 3ms/step - loss: 4.1230 - mean_squared_error: 4.1230 - mean_absolute_error: 1.5669\n",
      "Epoch 19/209\n",
      "1/1 [==============================] - 0s 4ms/step - loss: 3.2116 - mean_squared_error: 3.2116 - mean_absolute_error: 1.4432\n",
      "Epoch 20/209\n",
      "1/1 [==============================] - 0s 31ms/step - loss: 2.8807 - mean_squared_error: 2.8807 - mean_absolute_error: 1.4117\n",
      "Epoch 21/209\n",
      "1/1 [==============================] - 0s 0s/step - loss: 3.0051 - mean_squared_error: 3.0051 - mean_absolute_error: 1.4160\n",
      "Epoch 22/209\n",
      "1/1 [==============================] - 0s 25ms/step - loss: 3.4641 - mean_squared_error: 3.4641 - mean_absolute_error: 1.5109\n",
      "Epoch 23/209\n",
      "1/1 [==============================] - 0s 4ms/step - loss: 4.1455 - mean_squared_error: 4.1455 - mean_absolute_error: 1.6378\n",
      "Epoch 24/209\n",
      "1/1 [==============================] - 0s 0s/step - loss: 4.9478 - mean_squared_error: 4.9478 - mean_absolute_error: 1.8271\n",
      "Epoch 25/209\n",
      "1/1 [==============================] - 0s 5ms/step - loss: 5.7831 - mean_squared_error: 5.7831 - mean_absolute_error: 2.0084\n",
      "Epoch 26/209\n",
      "1/1 [==============================] - 0s 7ms/step - loss: 6.5788 - mean_squared_error: 6.5788 - mean_absolute_error: 2.1765\n",
      "Epoch 27/209\n",
      "1/1 [==============================] - 0s 4ms/step - loss: 7.2779 - mean_squared_error: 7.2779 - mean_absolute_error: 2.3121\n",
      "Epoch 28/209\n",
      "1/1 [==============================] - 0s 1ms/step - loss: 7.8398 - mean_squared_error: 7.8398 - mean_absolute_error: 2.4134\n",
      "Epoch 29/209\n",
      "1/1 [==============================] - 0s 0s/step - loss: 8.2390 - mean_squared_error: 8.2390 - mean_absolute_error: 2.4819\n",
      "Epoch 30/209\n",
      "1/1 [==============================] - 0s 8ms/step - loss: 8.4641 - mean_squared_error: 8.4641 - mean_absolute_error: 2.5194\n",
      "Epoch 31/209\n",
      "1/1 [==============================] - 0s 4ms/step - loss: 8.5163 - mean_squared_error: 8.5163 - mean_absolute_error: 2.5279\n",
      "Epoch 32/209\n",
      "1/1 [==============================] - 0s 0s/step - loss: 8.4066 - mean_squared_error: 8.4066 - mean_absolute_error: 2.5097\n",
      "Epoch 33/209\n",
      "1/1 [==============================] - 0s 0s/step - loss: 8.1540 - mean_squared_error: 8.1540 - mean_absolute_error: 2.4673\n",
      "Epoch 34/209\n",
      "1/1 [==============================] - 0s 2ms/step - loss: 7.7832 - mean_squared_error: 7.7832 - mean_absolute_error: 2.4031\n",
      "Epoch 35/209\n",
      "1/1 [==============================] - 0s 5ms/step - loss: 7.3221 - mean_squared_error: 7.3221 - mean_absolute_error: 2.3199\n",
      "Epoch 36/209\n",
      "1/1 [==============================] - 0s 2ms/step - loss: 6.8000 - mean_squared_error: 6.8000 - mean_absolute_error: 2.2203\n",
      "Epoch 37/209\n",
      "1/1 [==============================] - 0s 2ms/step - loss: 6.2456 - mean_squared_error: 6.2456 - mean_absolute_error: 2.1069\n",
      "Epoch 38/209\n",
      "1/1 [==============================] - 0s 5ms/step - loss: 5.6858 - mean_squared_error: 5.6858 - mean_absolute_error: 1.9871\n",
      "Epoch 39/209\n",
      "1/1 [==============================] - 0s 0s/step - loss: 5.1441 - mean_squared_error: 5.1441 - mean_absolute_error: 1.8687\n",
      "Epoch 40/209\n",
      "1/1 [==============================] - 0s 4ms/step - loss: 4.6402 - mean_squared_error: 4.6402 - mean_absolute_error: 1.7561\n",
      "Epoch 41/209\n",
      "1/1 [==============================] - 0s 6ms/step - loss: 4.1893 - mean_squared_error: 4.1893 - mean_absolute_error: 1.6451\n",
      "Epoch 42/209\n",
      "1/1 [==============================] - 0s 2ms/step - loss: 3.8019 - mean_squared_error: 3.8019 - mean_absolute_error: 1.5690\n",
      "Epoch 43/209\n",
      "1/1 [==============================] - 0s 2ms/step - loss: 3.4838 - mean_squared_error: 3.4838 - mean_absolute_error: 1.5145\n",
      "Epoch 44/209\n",
      "1/1 [==============================] - 0s 1ms/step - loss: 3.2366 - mean_squared_error: 3.2366 - mean_absolute_error: 1.4667\n",
      "Epoch 45/209\n",
      "1/1 [==============================] - 0s 0s/step - loss: 3.0580 - mean_squared_error: 3.0580 - mean_absolute_error: 1.4260\n",
      "Epoch 46/209\n",
      "1/1 [==============================] - 0s 2ms/step - loss: 2.9426 - mean_squared_error: 2.9426 - mean_absolute_error: 1.4049\n",
      "Epoch 47/209\n",
      "1/1 [==============================] - 0s 1ms/step - loss: 2.8825 - mean_squared_error: 2.8825 - mean_absolute_error: 1.3995\n",
      "Epoch 48/209\n",
      "1/1 [==============================] - 0s 5ms/step - loss: 2.8683 - mean_squared_error: 2.8683 - mean_absolute_error: 1.4058\n",
      "Epoch 49/209\n",
      "1/1 [==============================] - 0s 0s/step - loss: 2.8896 - mean_squared_error: 2.8896 - mean_absolute_error: 1.4115\n",
      "Epoch 50/209\n",
      "1/1 [==============================] - 0s 3ms/step - loss: 2.9358 - mean_squared_error: 2.9358 - mean_absolute_error: 1.4180\n",
      "Epoch 51/209\n",
      "1/1 [==============================] - 0s 3ms/step - loss: 2.9969 - mean_squared_error: 2.9969 - mean_absolute_error: 1.4248\n",
      "Epoch 52/209\n",
      "1/1 [==============================] - 0s 5ms/step - loss: 3.0637 - mean_squared_error: 3.0637 - mean_absolute_error: 1.4306\n",
      "Epoch 53/209\n",
      "1/1 [==============================] - 0s 2ms/step - loss: 3.1285 - mean_squared_error: 3.1285 - mean_absolute_error: 1.4353\n",
      "Epoch 54/209\n",
      "1/1 [==============================] - 0s 4ms/step - loss: 3.1853 - mean_squared_error: 3.1853 - mean_absolute_error: 1.4389\n",
      "Epoch 55/209\n",
      "1/1 [==============================] - 0s 1ms/step - loss: 3.2296 - mean_squared_error: 3.2296 - mean_absolute_error: 1.4440\n",
      "Epoch 56/209\n",
      "1/1 [==============================] - 0s 2ms/step - loss: 3.2587 - mean_squared_error: 3.2587 - mean_absolute_error: 1.4480\n",
      "Epoch 57/209\n",
      "1/1 [==============================] - 0s 6ms/step - loss: 3.2717 - mean_squared_error: 3.2717 - mean_absolute_error: 1.4496\n",
      "Epoch 58/209\n",
      "1/1 [==============================] - 0s 4ms/step - loss: 3.2689 - mean_squared_error: 3.2689 - mean_absolute_error: 1.4492\n",
      "Epoch 59/209\n",
      "1/1 [==============================] - 0s 0s/step - loss: 3.2518 - mean_squared_error: 3.2518 - mean_absolute_error: 1.4468\n",
      "Epoch 60/209\n",
      "1/1 [==============================] - 0s 4ms/step - loss: 3.2228 - mean_squared_error: 3.2228 - mean_absolute_error: 1.4428\n",
      "Epoch 61/209\n",
      "1/1 [==============================] - 0s 25ms/step - loss: 3.1847 - mean_squared_error: 3.1847 - mean_absolute_error: 1.4386\n",
      "Epoch 62/209\n",
      "1/1 [==============================] - 0s 0s/step - loss: 3.1408 - mean_squared_error: 3.1408 - mean_absolute_error: 1.4358\n",
      "Epoch 63/209\n",
      "1/1 [==============================] - 0s 16ms/step - loss: 3.0940 - mean_squared_error: 3.0940 - mean_absolute_error: 1.4325\n",
      "Epoch 64/209\n",
      "1/1 [==============================] - 0s 0s/step - loss: 3.0475 - mean_squared_error: 3.0475 - mean_absolute_error: 1.4289\n",
      "Epoch 65/209\n",
      "1/1 [==============================] - 0s 0s/step - loss: 3.0035 - mean_squared_error: 3.0035 - mean_absolute_error: 1.4250\n",
      "Epoch 66/209\n",
      "1/1 [==============================] - 0s 3ms/step - loss: 2.9641 - mean_squared_error: 2.9641 - mean_absolute_error: 1.4210\n",
      "Epoch 67/209\n",
      "1/1 [==============================] - 0s 4ms/step - loss: 2.9308 - mean_squared_error: 2.9308 - mean_absolute_error: 1.4169\n",
      "Epoch 68/209\n",
      "1/1 [==============================] - 0s 5ms/step - loss: 2.9041 - mean_squared_error: 2.9041 - mean_absolute_error: 1.4129\n",
      "Epoch 69/209\n",
      "1/1 [==============================] - 0s 4ms/step - loss: 2.8845 - mean_squared_error: 2.8845 - mean_absolute_error: 1.4089\n",
      "Epoch 70/209\n",
      "1/1 [==============================] - 0s 2ms/step - loss: 2.8715 - mean_squared_error: 2.8715 - mean_absolute_error: 1.4061\n",
      "Epoch 71/209\n",
      "1/1 [==============================] - 0s 2ms/step - loss: 2.8645 - mean_squared_error: 2.8645 - mean_absolute_error: 1.4037\n",
      "Epoch 72/209\n",
      "1/1 [==============================] - 0s 4ms/step - loss: 2.8626 - mean_squared_error: 2.8626 - mean_absolute_error: 1.4014\n",
      "Epoch 73/209\n",
      "1/1 [==============================] - 0s 2ms/step - loss: 2.8646 - mean_squared_error: 2.8646 - mean_absolute_error: 1.3994\n",
      "Epoch 74/209\n",
      "1/1 [==============================] - 0s 0s/step - loss: 2.8692 - mean_squared_error: 2.8692 - mean_absolute_error: 1.3975\n",
      "Epoch 75/209\n",
      "1/1 [==============================] - 0s 5ms/step - loss: 2.8754 - mean_squared_error: 2.8754 - mean_absolute_error: 1.3959\n",
      "Epoch 76/209\n",
      "1/1 [==============================] - 0s 2ms/step - loss: 2.8821 - mean_squared_error: 2.8821 - mean_absolute_error: 1.3957\n",
      "Epoch 77/209\n",
      "1/1 [==============================] - 0s 2ms/step - loss: 2.8884 - mean_squared_error: 2.8884 - mean_absolute_error: 1.3966\n",
      "Epoch 78/209\n",
      "1/1 [==============================] - 0s 4ms/step - loss: 2.8935 - mean_squared_error: 2.8935 - mean_absolute_error: 1.3972\n",
      "Epoch 79/209\n",
      "1/1 [==============================] - 0s 2ms/step - loss: 2.8971 - mean_squared_error: 2.8971 - mean_absolute_error: 1.3976\n",
      "Epoch 80/209\n",
      "1/1 [==============================] - 0s 3ms/step - loss: 2.8990 - mean_squared_error: 2.8990 - mean_absolute_error: 1.3978\n",
      "Epoch 81/209\n",
      "1/1 [==============================] - 0s 2ms/step - loss: 2.8990 - mean_squared_error: 2.8990 - mean_absolute_error: 1.3977\n",
      "Epoch 82/209\n",
      "1/1 [==============================] - 0s 3ms/step - loss: 2.8973 - mean_squared_error: 2.8973 - mean_absolute_error: 1.3974\n",
      "Epoch 83/209\n",
      "1/1 [==============================] - 0s 4ms/step - loss: 2.8943 - mean_squared_error: 2.8943 - mean_absolute_error: 1.3969\n",
      "Epoch 84/209\n",
      "1/1 [==============================] - 0s 2ms/step - loss: 2.8901 - mean_squared_error: 2.8901 - mean_absolute_error: 1.3963\n",
      "Epoch 85/209\n",
      "1/1 [==============================] - 0s 2ms/step - loss: 2.8853 - mean_squared_error: 2.8853 - mean_absolute_error: 1.3955\n",
      "Epoch 86/209\n",
      "1/1 [==============================] - 0s 4ms/step - loss: 2.8803 - mean_squared_error: 2.8803 - mean_absolute_error: 1.3947\n",
      "Epoch 87/209\n",
      "1/1 [==============================] - 0s 4ms/step - loss: 2.8753 - mean_squared_error: 2.8753 - mean_absolute_error: 1.3937\n",
      "Epoch 88/209\n",
      "1/1 [==============================] - 0s 2ms/step - loss: 2.8706 - mean_squared_error: 2.8706 - mean_absolute_error: 1.3944\n",
      "Epoch 89/209\n",
      "1/1 [==============================] - 0s 1ms/step - loss: 2.8666 - mean_squared_error: 2.8666 - mean_absolute_error: 1.3952\n",
      "Epoch 90/209\n",
      "1/1 [==============================] - 0s 2ms/step - loss: 2.8632 - mean_squared_error: 2.8632 - mean_absolute_error: 1.3959\n",
      "Epoch 91/209\n",
      "1/1 [==============================] - 0s 2ms/step - loss: 2.8607 - mean_squared_error: 2.8607 - mean_absolute_error: 1.3966\n",
      "Epoch 92/209\n",
      "1/1 [==============================] - 0s 4ms/step - loss: 2.8590 - mean_squared_error: 2.8590 - mean_absolute_error: 1.3973\n",
      "Epoch 93/209\n",
      "1/1 [==============================] - 0s 47ms/step - loss: 2.8580 - mean_squared_error: 2.8580 - mean_absolute_error: 1.3980\n",
      "Epoch 94/209\n",
      "1/1 [==============================] - 0s 20ms/step - loss: 2.8576 - mean_squared_error: 2.8576 - mean_absolute_error: 1.3986\n",
      "Epoch 95/209\n",
      "1/1 [==============================] - 0s 7ms/step - loss: 2.8577 - mean_squared_error: 2.8577 - mean_absolute_error: 1.3991\n",
      "Epoch 96/209\n",
      "1/1 [==============================] - 0s 1ms/step - loss: 2.8581 - mean_squared_error: 2.8581 - mean_absolute_error: 1.3995\n",
      "Epoch 97/209\n",
      "1/1 [==============================] - 0s 0s/step - loss: 2.8587 - mean_squared_error: 2.8587 - mean_absolute_error: 1.4000\n",
      "Epoch 98/209\n",
      "1/1 [==============================] - 0s 20ms/step - loss: 2.8593 - mean_squared_error: 2.8593 - mean_absolute_error: 1.4006\n",
      "Epoch 99/209\n",
      "1/1 [==============================] - 0s 0s/step - loss: 2.8598 - mean_squared_error: 2.8598 - mean_absolute_error: 1.4010\n",
      "Epoch 100/209\n",
      "1/1 [==============================] - 0s 2ms/step - loss: 2.8601 - mean_squared_error: 2.8601 - mean_absolute_error: 1.4012\n",
      "Epoch 101/209\n",
      "1/1 [==============================] - 0s 0s/step - loss: 2.8603 - mean_squared_error: 2.8603 - mean_absolute_error: 1.4014\n",
      "Epoch 102/209\n",
      "1/1 [==============================] - 0s 4ms/step - loss: 2.8602 - mean_squared_error: 2.8602 - mean_absolute_error: 1.4014\n",
      "Epoch 103/209\n",
      "1/1 [==============================] - 0s 1ms/step - loss: 2.8599 - mean_squared_error: 2.8599 - mean_absolute_error: 1.4013\n",
      "Epoch 104/209\n",
      "1/1 [==============================] - 0s 2ms/step - loss: 2.8594 - mean_squared_error: 2.8594 - mean_absolute_error: 1.4011\n",
      "Epoch 105/209\n",
      "1/1 [==============================] - 0s 3ms/step - loss: 2.8587 - mean_squared_error: 2.8587 - mean_absolute_error: 1.4008\n",
      "Epoch 106/209\n",
      "1/1 [==============================] - 0s 2ms/step - loss: 2.8580 - mean_squared_error: 2.8580 - mean_absolute_error: 1.4004\n",
      "Epoch 107/209\n",
      "1/1 [==============================] - 0s 4ms/step - loss: 2.8572 - mean_squared_error: 2.8572 - mean_absolute_error: 1.3999\n",
      "Epoch 108/209\n",
      "1/1 [==============================] - 0s 3ms/step - loss: 2.8564 - mean_squared_error: 2.8564 - mean_absolute_error: 1.3994\n",
      "Epoch 109/209\n",
      "1/1 [==============================] - 0s 0s/step - loss: 2.8557 - mean_squared_error: 2.8557 - mean_absolute_error: 1.3989\n",
      "Epoch 110/209\n",
      "1/1 [==============================] - 0s 4ms/step - loss: 2.8550 - mean_squared_error: 2.8550 - mean_absolute_error: 1.3983\n",
      "Epoch 111/209\n",
      "1/1 [==============================] - 0s 4ms/step - loss: 2.8544 - mean_squared_error: 2.8544 - mean_absolute_error: 1.3978\n",
      "Epoch 112/209\n",
      "1/1 [==============================] - 0s 2ms/step - loss: 2.8540 - mean_squared_error: 2.8540 - mean_absolute_error: 1.3972\n",
      "Epoch 113/209\n",
      "1/1 [==============================] - 0s 2ms/step - loss: 2.8536 - mean_squared_error: 2.8536 - mean_absolute_error: 1.3967\n",
      "Epoch 114/209\n",
      "1/1 [==============================] - 0s 5ms/step - loss: 2.8533 - mean_squared_error: 2.8533 - mean_absolute_error: 1.3962\n",
      "Epoch 115/209\n",
      "1/1 [==============================] - 0s 2ms/step - loss: 2.8531 - mean_squared_error: 2.8531 - mean_absolute_error: 1.3958\n",
      "Epoch 116/209\n",
      "1/1 [==============================] - 0s 3ms/step - loss: 2.8530 - mean_squared_error: 2.8530 - mean_absolute_error: 1.3953\n",
      "Epoch 117/209\n",
      "1/1 [==============================] - 0s 4ms/step - loss: 2.8529 - mean_squared_error: 2.8529 - mean_absolute_error: 1.3950\n",
      "Epoch 118/209\n",
      "1/1 [==============================] - 0s 3ms/step - loss: 2.8528 - mean_squared_error: 2.8528 - mean_absolute_error: 1.3947\n",
      "Epoch 119/209\n",
      "1/1 [==============================] - 0s 3ms/step - loss: 2.8527 - mean_squared_error: 2.8527 - mean_absolute_error: 1.3944\n",
      "Epoch 120/209\n",
      "1/1 [==============================] - 0s 0s/step - loss: 2.8526 - mean_squared_error: 2.8526 - mean_absolute_error: 1.3942\n",
      "Epoch 121/209\n",
      "1/1 [==============================] - 0s 4ms/step - loss: 2.8524 - mean_squared_error: 2.8524 - mean_absolute_error: 1.3941\n",
      "Epoch 122/209\n",
      "1/1 [==============================] - 0s 3ms/step - loss: 2.8523 - mean_squared_error: 2.8523 - mean_absolute_error: 1.3940\n",
      "Epoch 123/209\n",
      "1/1 [==============================] - 0s 4ms/step - loss: 2.8521 - mean_squared_error: 2.8521 - mean_absolute_error: 1.3939\n",
      "Epoch 124/209\n",
      "1/1 [==============================] - 0s 0s/step - loss: 2.8518 - mean_squared_error: 2.8518 - mean_absolute_error: 1.3939\n",
      "Epoch 125/209\n",
      "1/1 [==============================] - 0s 1ms/step - loss: 2.8516 - mean_squared_error: 2.8516 - mean_absolute_error: 1.3939\n",
      "Epoch 126/209\n",
      "1/1 [==============================] - 0s 3ms/step - loss: 2.8513 - mean_squared_error: 2.8513 - mean_absolute_error: 1.3940\n",
      "Epoch 127/209\n",
      "1/1 [==============================] - 0s 2ms/step - loss: 2.8510 - mean_squared_error: 2.8510 - mean_absolute_error: 1.3941\n",
      "Epoch 128/209\n",
      "1/1 [==============================] - 0s 3ms/step - loss: 2.8508 - mean_squared_error: 2.8508 - mean_absolute_error: 1.3942\n",
      "Epoch 129/209\n",
      "1/1 [==============================] - 0s 6ms/step - loss: 2.8505 - mean_squared_error: 2.8505 - mean_absolute_error: 1.3943\n",
      "Epoch 130/209\n",
      "1/1 [==============================] - 0s 7ms/step - loss: 2.8503 - mean_squared_error: 2.8503 - mean_absolute_error: 1.3944\n",
      "Epoch 131/209\n",
      "1/1 [==============================] - 0s 0s/step - loss: 2.8500 - mean_squared_error: 2.8500 - mean_absolute_error: 1.3945\n",
      "Epoch 132/209\n",
      "1/1 [==============================] - 0s 4ms/step - loss: 2.8498 - mean_squared_error: 2.8498 - mean_absolute_error: 1.3947\n",
      "Epoch 133/209\n",
      "1/1 [==============================] - 0s 12ms/step - loss: 2.8496 - mean_squared_error: 2.8496 - mean_absolute_error: 1.3948\n",
      "Epoch 134/209\n",
      "1/1 [==============================] - 0s 22ms/step - loss: 2.8494 - mean_squared_error: 2.8494 - mean_absolute_error: 1.3949\n",
      "Epoch 135/209\n",
      "1/1 [==============================] - 0s 5ms/step - loss: 2.8492 - mean_squared_error: 2.8492 - mean_absolute_error: 1.3950\n",
      "Epoch 136/209\n",
      "1/1 [==============================] - 0s 8ms/step - loss: 2.8491 - mean_squared_error: 2.8491 - mean_absolute_error: 1.3950\n",
      "Epoch 137/209\n",
      "1/1 [==============================] - 0s 6ms/step - loss: 2.8489 - mean_squared_error: 2.8489 - mean_absolute_error: 1.3951\n",
      "Epoch 138/209\n",
      "1/1 [==============================] - 0s 6ms/step - loss: 2.8487 - mean_squared_error: 2.8487 - mean_absolute_error: 1.3951\n",
      "Epoch 139/209\n",
      "1/1 [==============================] - 0s 4ms/step - loss: 2.8486 - mean_squared_error: 2.8486 - mean_absolute_error: 1.3951\n",
      "Epoch 140/209\n",
      "1/1 [==============================] - 0s 4ms/step - loss: 2.8484 - mean_squared_error: 2.8484 - mean_absolute_error: 1.3951\n",
      "Epoch 141/209\n",
      "1/1 [==============================] - 0s 4ms/step - loss: 2.8482 - mean_squared_error: 2.8482 - mean_absolute_error: 1.3950\n",
      "Epoch 142/209\n",
      "1/1 [==============================] - 0s 4ms/step - loss: 2.8480 - mean_squared_error: 2.8480 - mean_absolute_error: 1.3950\n",
      "Epoch 143/209\n",
      "1/1 [==============================] - 0s 3ms/step - loss: 2.8479 - mean_squared_error: 2.8479 - mean_absolute_error: 1.3949\n",
      "Epoch 144/209\n",
      "1/1 [==============================] - 0s 4ms/step - loss: 2.8477 - mean_squared_error: 2.8477 - mean_absolute_error: 1.3948\n",
      "Epoch 145/209\n",
      "1/1 [==============================] - 0s 4ms/step - loss: 2.8475 - mean_squared_error: 2.8475 - mean_absolute_error: 1.3947\n",
      "Epoch 146/209\n",
      "1/1 [==============================] - 0s 4ms/step - loss: 2.8473 - mean_squared_error: 2.8473 - mean_absolute_error: 1.3946\n",
      "Epoch 147/209\n",
      "1/1 [==============================] - 0s 4ms/step - loss: 2.8471 - mean_squared_error: 2.8471 - mean_absolute_error: 1.3945\n",
      "Epoch 148/209\n",
      "1/1 [==============================] - 0s 3ms/step - loss: 2.8469 - mean_squared_error: 2.8469 - mean_absolute_error: 1.3943\n",
      "Epoch 149/209\n",
      "1/1 [==============================] - 0s 3ms/step - loss: 2.8468 - mean_squared_error: 2.8468 - mean_absolute_error: 1.3942\n",
      "Epoch 150/209\n",
      "1/1 [==============================] - 0s 2ms/step - loss: 2.8466 - mean_squared_error: 2.8466 - mean_absolute_error: 1.3941\n",
      "Epoch 151/209\n",
      "1/1 [==============================] - 0s 2ms/step - loss: 2.8464 - mean_squared_error: 2.8464 - mean_absolute_error: 1.3939\n",
      "Epoch 152/209\n",
      "1/1 [==============================] - 0s 5ms/step - loss: 2.8463 - mean_squared_error: 2.8463 - mean_absolute_error: 1.3938\n",
      "Epoch 153/209\n",
      "1/1 [==============================] - 0s 3ms/step - loss: 2.8461 - mean_squared_error: 2.8461 - mean_absolute_error: 1.3937\n",
      "Epoch 154/209\n",
      "1/1 [==============================] - 0s 2ms/step - loss: 2.8459 - mean_squared_error: 2.8459 - mean_absolute_error: 1.3936\n",
      "Epoch 155/209\n",
      "1/1 [==============================] - 0s 2ms/step - loss: 2.8458 - mean_squared_error: 2.8458 - mean_absolute_error: 1.3935\n",
      "Epoch 156/209\n",
      "1/1 [==============================] - 0s 4ms/step - loss: 2.8456 - mean_squared_error: 2.8456 - mean_absolute_error: 1.3934\n",
      "Epoch 157/209\n",
      "1/1 [==============================] - 0s 4ms/step - loss: 2.8455 - mean_squared_error: 2.8455 - mean_absolute_error: 1.3933\n",
      "Epoch 158/209\n",
      "1/1 [==============================] - 0s 3ms/step - loss: 2.8453 - mean_squared_error: 2.8453 - mean_absolute_error: 1.3932\n",
      "Epoch 159/209\n",
      "1/1 [==============================] - 0s 5ms/step - loss: 2.8451 - mean_squared_error: 2.8451 - mean_absolute_error: 1.3931\n",
      "Epoch 160/209\n",
      "1/1 [==============================] - 0s 5ms/step - loss: 2.8450 - mean_squared_error: 2.8450 - mean_absolute_error: 1.3931\n",
      "Epoch 161/209\n",
      "1/1 [==============================] - 0s 2ms/step - loss: 2.8448 - mean_squared_error: 2.8448 - mean_absolute_error: 1.3930\n",
      "Epoch 162/209\n",
      "1/1 [==============================] - 0s 2ms/step - loss: 2.8447 - mean_squared_error: 2.8447 - mean_absolute_error: 1.3930\n",
      "Epoch 163/209\n",
      "1/1 [==============================] - 0s 4ms/step - loss: 2.8445 - mean_squared_error: 2.8445 - mean_absolute_error: 1.3929\n",
      "Epoch 164/209\n",
      "1/1 [==============================] - 0s 4ms/step - loss: 2.8444 - mean_squared_error: 2.8444 - mean_absolute_error: 1.3929\n",
      "Epoch 165/209\n",
      "1/1 [==============================] - 0s 3ms/step - loss: 2.8442 - mean_squared_error: 2.8442 - mean_absolute_error: 1.3929\n",
      "Epoch 166/209\n",
      "1/1 [==============================] - 0s 3ms/step - loss: 2.8441 - mean_squared_error: 2.8441 - mean_absolute_error: 1.3928\n",
      "Epoch 167/209\n",
      "1/1 [==============================] - 0s 5ms/step - loss: 2.8439 - mean_squared_error: 2.8439 - mean_absolute_error: 1.3928\n",
      "Epoch 168/209\n",
      "1/1 [==============================] - 0s 22ms/step - loss: 2.8438 - mean_squared_error: 2.8438 - mean_absolute_error: 1.3928\n",
      "Epoch 169/209\n",
      "1/1 [==============================] - 0s 5ms/step - loss: 2.8436 - mean_squared_error: 2.8436 - mean_absolute_error: 1.3927\n",
      "Epoch 170/209\n",
      "1/1 [==============================] - 0s 4ms/step - loss: 2.8435 - mean_squared_error: 2.8435 - mean_absolute_error: 1.3927\n",
      "Epoch 171/209\n",
      "1/1 [==============================] - 0s 5ms/step - loss: 2.8433 - mean_squared_error: 2.8433 - mean_absolute_error: 1.3927\n",
      "Epoch 172/209\n",
      "1/1 [==============================] - 0s 4ms/step - loss: 2.8432 - mean_squared_error: 2.8432 - mean_absolute_error: 1.3926\n",
      "Epoch 173/209\n",
      "1/1 [==============================] - 0s 6ms/step - loss: 2.8431 - mean_squared_error: 2.8431 - mean_absolute_error: 1.3926\n",
      "Epoch 174/209\n",
      "1/1 [==============================] - 0s 855us/step - loss: 2.8429 - mean_squared_error: 2.8429 - mean_absolute_error: 1.3926\n",
      "Epoch 175/209\n",
      "1/1 [==============================] - 0s 3ms/step - loss: 2.8428 - mean_squared_error: 2.8428 - mean_absolute_error: 1.3925\n",
      "Epoch 176/209\n",
      "1/1 [==============================] - 0s 2ms/step - loss: 2.8427 - mean_squared_error: 2.8427 - mean_absolute_error: 1.3925\n",
      "Epoch 177/209\n",
      "1/1 [==============================] - 0s 3ms/step - loss: 2.8425 - mean_squared_error: 2.8425 - mean_absolute_error: 1.3924\n",
      "Epoch 178/209\n",
      "1/1 [==============================] - 0s 3ms/step - loss: 2.8424 - mean_squared_error: 2.8424 - mean_absolute_error: 1.3924\n",
      "Epoch 179/209\n",
      "1/1 [==============================] - 0s 2ms/step - loss: 2.8422 - mean_squared_error: 2.8422 - mean_absolute_error: 1.3923\n",
      "Epoch 180/209\n",
      "1/1 [==============================] - 0s 7ms/step - loss: 2.8421 - mean_squared_error: 2.8421 - mean_absolute_error: 1.3922\n",
      "Epoch 181/209\n",
      "1/1 [==============================] - 0s 3ms/step - loss: 2.8420 - mean_squared_error: 2.8420 - mean_absolute_error: 1.3922\n",
      "Epoch 182/209\n",
      "1/1 [==============================] - 0s 4ms/step - loss: 2.8419 - mean_squared_error: 2.8419 - mean_absolute_error: 1.3921\n",
      "Epoch 183/209\n",
      "1/1 [==============================] - 0s 3ms/step - loss: 2.8417 - mean_squared_error: 2.8417 - mean_absolute_error: 1.3921\n",
      "Epoch 184/209\n",
      "1/1 [==============================] - 0s 4ms/step - loss: 2.8416 - mean_squared_error: 2.8416 - mean_absolute_error: 1.3920\n",
      "Epoch 185/209\n",
      "1/1 [==============================] - 0s 5ms/step - loss: 2.8415 - mean_squared_error: 2.8415 - mean_absolute_error: 1.3919\n",
      "Epoch 186/209\n",
      "1/1 [==============================] - 0s 3ms/step - loss: 2.8413 - mean_squared_error: 2.8413 - mean_absolute_error: 1.3919\n",
      "Epoch 187/209\n",
      "1/1 [==============================] - 0s 2ms/step - loss: 2.8412 - mean_squared_error: 2.8412 - mean_absolute_error: 1.3918\n",
      "Epoch 188/209\n",
      "1/1 [==============================] - 0s 5ms/step - loss: 2.8411 - mean_squared_error: 2.8411 - mean_absolute_error: 1.3917\n",
      "Epoch 189/209\n",
      "1/1 [==============================] - 0s 4ms/step - loss: 2.8410 - mean_squared_error: 2.8410 - mean_absolute_error: 1.3917\n",
      "Epoch 190/209\n",
      "1/1 [==============================] - 0s 2ms/step - loss: 2.8409 - mean_squared_error: 2.8409 - mean_absolute_error: 1.3916\n",
      "Epoch 191/209\n",
      "1/1 [==============================] - 0s 4ms/step - loss: 2.8407 - mean_squared_error: 2.8407 - mean_absolute_error: 1.3915\n",
      "Epoch 192/209\n",
      "1/1 [==============================] - 0s 3ms/step - loss: 2.8406 - mean_squared_error: 2.8406 - mean_absolute_error: 1.3915\n",
      "Epoch 193/209\n",
      "1/1 [==============================] - 0s 3ms/step - loss: 2.8405 - mean_squared_error: 2.8405 - mean_absolute_error: 1.3914\n",
      "Epoch 194/209\n",
      "1/1 [==============================] - 0s 3ms/step - loss: 2.8404 - mean_squared_error: 2.8404 - mean_absolute_error: 1.3914\n",
      "Epoch 195/209\n",
      "1/1 [==============================] - 0s 2ms/step - loss: 2.8403 - mean_squared_error: 2.8403 - mean_absolute_error: 1.3913\n",
      "Epoch 196/209\n",
      "1/1 [==============================] - 0s 3ms/step - loss: 2.8402 - mean_squared_error: 2.8402 - mean_absolute_error: 1.3913\n",
      "Epoch 197/209\n",
      "1/1 [==============================] - 0s 4ms/step - loss: 2.8400 - mean_squared_error: 2.8400 - mean_absolute_error: 1.3912\n",
      "Epoch 198/209\n",
      "1/1 [==============================] - 0s 3ms/step - loss: 2.8399 - mean_squared_error: 2.8399 - mean_absolute_error: 1.3912\n",
      "Epoch 199/209\n",
      "1/1 [==============================] - 0s 5ms/step - loss: 2.8398 - mean_squared_error: 2.8398 - mean_absolute_error: 1.3911\n",
      "Epoch 200/209\n",
      "1/1 [==============================] - 0s 10ms/step - loss: 2.8397 - mean_squared_error: 2.8397 - mean_absolute_error: 1.3911\n",
      "Epoch 201/209\n",
      "1/1 [==============================] - 0s 10ms/step - loss: 2.8396 - mean_squared_error: 2.8396 - mean_absolute_error: 1.3910\n",
      "Epoch 202/209\n",
      "1/1 [==============================] - 0s 5ms/step - loss: 2.8395 - mean_squared_error: 2.8395 - mean_absolute_error: 1.3910\n",
      "Epoch 203/209\n",
      "1/1 [==============================] - 0s 4ms/step - loss: 2.8394 - mean_squared_error: 2.8394 - mean_absolute_error: 1.3909\n",
      "Epoch 204/209\n",
      "1/1 [==============================] - 0s 6ms/step - loss: 2.8393 - mean_squared_error: 2.8393 - mean_absolute_error: 1.3909\n",
      "Epoch 205/209\n",
      "1/1 [==============================] - 0s 16ms/step - loss: 2.8392 - mean_squared_error: 2.8392 - mean_absolute_error: 1.3908\n",
      "Epoch 206/209\n",
      "1/1 [==============================] - 0s 5ms/step - loss: 2.8391 - mean_squared_error: 2.8391 - mean_absolute_error: 1.3908\n",
      "Epoch 207/209\n",
      "1/1 [==============================] - 0s 5ms/step - loss: 2.8390 - mean_squared_error: 2.8390 - mean_absolute_error: 1.3907\n",
      "Epoch 208/209\n",
      "1/1 [==============================] - 0s 4ms/step - loss: 2.8389 - mean_squared_error: 2.8389 - mean_absolute_error: 1.3907\n",
      "Epoch 209/209\n",
      "1/1 [==============================] - 0s 2ms/step - loss: 2.8388 - mean_squared_error: 2.8388 - mean_absolute_error: 1.3906\n"
     ]
    },
    {
     "data": {
      "text/plain": [
       "<keras.callbacks.History at 0x1c248ce36d0>"
      ]
     },
     "execution_count": 9,
     "metadata": {},
     "output_type": "execute_result"
    }
   ],
   "source": [
    "# Fit the model to the data\n",
    "model.fit(data['Depth (m)'], data['Pressure (MPa)'], epochs=209, verbose=1)\n",
    "\n",
    "# Prompt for students: Try changing the number of epochs. How does it affect the model's performance?"
   ]
  },
  {
   "cell_type": "markdown",
   "metadata": {},
   "source": [
    "### 10.  Trained Model Weights"
   ]
  },
  {
   "cell_type": "code",
   "execution_count": 10,
   "metadata": {},
   "outputs": [
    {
     "name": "stdout",
     "output_type": "stream",
     "text": [
      "Trained Model Weights: [array([[1.7593259]], dtype=float32), array([1.345562], dtype=float32)]\n",
      "\n",
      "Trained Model Weights slope value:  1.7593\n",
      "Trained Model Weights Intercept / Bias value:  1.3456\n"
     ]
    }
   ],
   "source": [
    "print(f'Trained Model Weights: {model.get_weights()}\\n')\n",
    "print(f'Trained Model Weights slope value: {model.get_weights()[0][0][0]: .4f}')\n",
    "print(f'Trained Model Weights Intercept / Bias value: {model.get_weights()[1][0]: .4f}')"
   ]
  },
  {
   "cell_type": "markdown",
   "metadata": {},
   "source": [
    "### 11.  Predict the Pressure Values\n",
    "Use the trained model to predict the pressure values."
   ]
  },
  {
   "cell_type": "code",
   "execution_count": 11,
   "metadata": {},
   "outputs": [
    {
     "name": "stdout",
     "output_type": "stream",
     "text": [
      "1/1 [==============================] - 0s 131ms/step\n",
      "[[4.864214 ]\n",
      " [5.4925447]\n",
      " [6.120875 ]\n",
      " [6.7492056]\n",
      " [7.3775363]]\n"
     ]
    }
   ],
   "source": [
    "# Predict the pressure values\n",
    "predictions = model.predict(data['Depth (m)'])\n",
    "\n",
    "# Display the first few predicted values\n",
    "print(predictions[:5])\n",
    "\n",
    "# Question for students: What do these predicted values represent?\n",
    "# Prompt for students: Try predicting the pressure values for different depths. How do the predicted values change?"
   ]
  },
  {
   "cell_type": "markdown",
   "metadata": {},
   "source": [
    "### 12.  Plot the Regression Curve\n",
    "Plot the regression curve along with the original data."
   ]
  },
  {
   "cell_type": "code",
   "execution_count": 12,
   "metadata": {},
   "outputs": [
    {
     "data": {
      "image/png": "[encoded data removed]",
      "text/plain": [
       "<Figure size 640x480 with 1 Axes>"
      ]
     },
     "metadata": {},
     "output_type": "display_data"
    }
   ],
   "source": [
    "# Plot the regression curve along with the original data\n",
    "plt.scatter(data['Depth (m)'], data['Pressure (MPa)'], color='blue')  # Plot the original data points\n",
    "plt.plot(data['Depth (m)'], predictions, color='red')  # Plot the regression curve\n",
    "plt.xlabel('Depth (in 1000 m)', fontsize=14)  # Set the x-axis label\n",
    "plt.ylabel('Pressure (MPa)', fontsize=14)  # Set the y-axis label\n",
    "plt.title('Pressure Vs Depth (Oil and Gas)', fontsize=16)  # Set the title\n",
    "plt.show()  # Display the plot\n",
    "\n",
    "# Question for students: What does the red line represent in this plot?"
   ]
  },
  {
   "cell_type": "markdown",
   "metadata": {},
   "source": [
    "### 13.  Calculate MSE, RMSE, MAE\n",
    "Calculate the mean squared error, root mean squared error, and mean absolute error of the predictions."
   ]
  },
  {
   "cell_type": "code",
   "execution_count": 13,
   "metadata": {},
   "outputs": [
    {
     "name": "stdout",
     "output_type": "stream",
     "text": [
      "MSE: 2.8386754531869838\n",
      "RMSE: 1.684836921837536\n",
      "MAE: 1.390579772008783\n"
     ]
    }
   ],
   "source": [
    "# Calculate MSE, RMSE, MAE\n",
    "mse = np.mean((predictions.ravel() - data['Pressure (MPa)'])**2)  # Calculate the mean squared error\n",
    "rmse = np.sqrt(mse)  # Calculate the root mean squared error\n",
    "mae = np.mean(np.abs(predictions.ravel() - data['Pressure (MPa)']))  # Calculate the mean absolute error\n",
    "\n",
    "# Print the calculated metrics\n",
    "print(\"MSE:\", mse)\n",
    "print(\"RMSE:\", rmse)\n",
    "print(\"MAE:\", mae)\n",
    "\n",
    "# Question for students: What do these metrics represent?"
   ]
  },
  {
   "cell_type": "markdown",
   "metadata": {},
   "source": [
    "### 14.  Predict Pressure at Specific Depth\n",
    "Use the model to predict the pressure at a specific depth."
   ]
  },
  {
   "cell_type": "code",
   "execution_count": 14,
   "metadata": {},
   "outputs": [
    {
     "name": "stdout",
     "output_type": "stream",
     "text": [
      "1/1 [==============================] - 0s 91ms/step\n",
      "The predicted pressure at a depth of 7 is: 13.660843\n"
     ]
    }
   ],
   "source": [
    "# Predict the pressure at a specific depth\n",
    "depth = np.array([[7]])  # Define the depth at which to predict the pressure\n",
    "pressure_pred = model.predict(depth)  # Use the model to predict the pressure at the specified depth\n",
    "\n",
    "# Print the predicted pressure\n",
    "print(\"The predicted pressure at a depth of 7 is:\", pressure_pred[0][0])\n",
    "# Prompt for students: Try predicting the pressure at different depths. How do the predicted values change?"
   ]
  },
  {
   "cell_type": "markdown",
   "metadata": {},
   "source": [
    "### 15.  Plot Data, prediction point with Dashed Lines\n",
    "Plot the data and the regression line, along with a point for the predicted pressure at a specific depth and dashed lines to this point."
   ]
  },
  {
   "cell_type": "code",
   "execution_count": 15,
   "metadata": {},
   "outputs": [
    {
     "data": {
      "image/png": "[encoded data removed]",
      "text/plain": [
       "<Figure size 640x480 with 1 Axes>"
      ]
     },
     "metadata": {},
     "output_type": "display_data"
    }
   ],
   "source": [
    "# Plot the data, the regression curve, and the predicted pressure\n",
    "plt.scatter(data['Depth (m)'], data['Pressure (MPa)'], color='blue')  # Plot the original data points\n",
    "plt.plot(data['Depth (m)'], predictions, color='red')  # Plot the regression curve\n",
    "plt.scatter(depth.ravel(), pressure_pred.ravel(), color='cyan')  # Plot the predicted pressure\n",
    "\n",
    "# Create arrays for the dashed lines\n",
    "depth_val = depth.ravel()[0]\n",
    "pressure_val = pressure_pred.ravel()[0]\n",
    "vertical_line = np.array([depth_val, depth_val])\n",
    "horizontal_line = np.array([1.8, depth_val])\n",
    "pressure_line = np.array([-0.2, pressure_val])\n",
    "\n",
    "# Plot the dashed lines\n",
    "plt.plot(vertical_line, pressure_line, color='cyan', linestyle='dashed')\n",
    "plt.plot(horizontal_line, np.array([pressure_val, pressure_val]), color='cyan', linestyle='dashed')\n",
    "\n",
    "# Set the labels and title\n",
    "plt.xlabel('Depth (in 1000 m)', fontsize=14)\n",
    "plt.ylabel('Pressure (MPa)', fontsize=14)\n",
    "plt.title('Pressure Vs Depth (Oil and Gas)', fontsize=16)\n",
    "\n",
    "# Display the plot\n",
    "plt.show()\n",
    "\n",
    "# Question for students: What does the cyan point represent in this plot?"
   ]
  }
 ],
 "metadata": {
  "kernelspec": {
   "display_name": "base",
   "language": "python",
   "name": "python3"
  },
  "language_info": {
   "codemirror_mode": {
    "name": "ipython",
    "version": 3
   },
   "file_extension": ".py",
   "mimetype": "text/x-python",
   "name": "python",
   "nbconvert_exporter": "python",
   "pygments_lexer": "ipython3",
   "version": "3.10.9"
  }
 },
 "nbformat": 4,
 "nbformat_minor": 2
}
