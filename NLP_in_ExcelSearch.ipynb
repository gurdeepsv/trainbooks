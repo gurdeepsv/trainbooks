{
  "nbformat": 4,
  "nbformat_minor": 0,
  "metadata": {
    "colab": {
      "provenance": []
    },
    "kernelspec": {
      "name": "python3",
      "display_name": "Python 3"
    },
    "language_info": {
      "name": "python"
    }
  },
  "cells": [
    {
      "cell_type": "code",
      "execution_count": 2,
      "metadata": {
        "id": "l0TBE0TfumU1"
      },
      "outputs": [],
      "source": [
        "import pandas as pd"
      ]
    },
    {
      "cell_type": "code",
      "source": [
        "!pip install fuzzywuzzy"
      ],
      "metadata": {
        "colab": {
          "base_uri": "https://localhost:8080/"
        },
        "id": "ToFeArj6v4SP",
        "outputId": "0dfb060c-4b69-46f2-da0e-12728299ac22"
      },
      "execution_count": 3,
      "outputs": [
        {
          "output_type": "stream",
          "name": "stdout",
          "text": [
            "Requirement already satisfied: fuzzywuzzy in /usr/local/lib/python3.10/dist-packages (0.18.0)\n"
          ]
        }
      ]
    },
    {
      "cell_type": "code",
      "source": [
        "from fuzzywuzzy import fuzz"
      ],
      "metadata": {
        "colab": {
          "base_uri": "https://localhost:8080/"
        },
        "id": "bViwlZHQvdPh",
        "outputId": "384cb6f3-4671-4dd2-989d-ae7e8d822ce9"
      },
      "execution_count": 4,
      "outputs": [
        {
          "output_type": "stream",
          "name": "stderr",
          "text": [
            "/usr/local/lib/python3.10/dist-packages/fuzzywuzzy/fuzz.py:11: UserWarning: Using slow pure-python SequenceMatcher. Install python-Levenshtein to remove this warning\n",
            "  warnings.warn('Using slow pure-python SequenceMatcher. Install python-Levenshtein to remove this warning')\n"
          ]
        }
      ]
    },
    {
      "cell_type": "code",
      "source": [
        "df = pd.read_excel('employee_data.xlsx')\n",
        "df.head()"
      ],
      "metadata": {
        "colab": {
          "base_uri": "https://localhost:8080/",
          "height": 293
        },
        "collapsed": true,
        "id": "DgB0jw2fwoSd",
        "outputId": "9bb13b50-0d9f-4e8d-9ead-ac0ecced1261"
      },
      "execution_count": 5,
      "outputs": [
        {
          "output_type": "execute_result",
          "data": {
            "text/plain": [
              "     EEID        Full Name                 Job Title Department  \\\n",
              "0  E02387      Emily Davis                Sr. Manger         IT   \n",
              "1  E04105    Theodore Dinh       Technical Architect         IT   \n",
              "2  E02572     Luna Sanders                  Director    Finance   \n",
              "3  E02832  Penelope Jordan  Computer Systems Manager         IT   \n",
              "4  E01639        Austin Vo               Sr. Analyst    Finance   \n",
              "\n",
              "            Business Unit  Gender  Ethnicity  Age            Hire Date  \\\n",
              "0  Research & Development  Female      Black   55  2016-08-04 00:00:00   \n",
              "1           Manufacturing    Male      Asian   59           11/29/1997   \n",
              "2     Speciality Products  Female  Caucasian   50           10/26/2006   \n",
              "3           Manufacturing  Female  Caucasian   26            9/27/2019   \n",
              "4           Manufacturing    Male      Asian   55           11/20/1995   \n",
              "\n",
              "  Annual Salary  Bonus %        Country       City   Exit Date  \n",
              "0     $141,604      0.15  United States    Seattle  10/16/2021  \n",
              "1      $99,975      0.00          China  Chongqing         NaN  \n",
              "2     $163,099      0.20  United States    Chicago         NaN  \n",
              "3      $84,913      0.07  United States    Chicago         NaN  \n",
              "4      $95,409      0.00  United States    Phoenix         NaN  "
            ],
            "text/html": [
              "\n",
              "  <div id=\"df-2181cd75-4234-4c1b-b175-b748a206cafc\" class=\"colab-df-container\">\n",
              "    <div>\n",
              "<style scoped>\n",
              "    .dataframe tbody tr th:only-of-type {\n",
              "        vertical-align: middle;\n",
              "    }\n",
              "\n",
              "    .dataframe tbody tr th {\n",
              "        vertical-align: top;\n",
              "    }\n",
              "\n",
              "    .dataframe thead th {\n",
              "        text-align: right;\n",
              "    }\n",
              "</style>\n",
              "<table border=\"1\" class=\"dataframe\">\n",
              "  <thead>\n",
              "    <tr style=\"text-align: right;\">\n",
              "      <th></th>\n",
              "      <th>EEID</th>\n",
              "      <th>Full Name</th>\n",
              "      <th>Job Title</th>\n",
              "      <th>Department</th>\n",
              "      <th>Business Unit</th>\n",
              "      <th>Gender</th>\n",
              "      <th>Ethnicity</th>\n",
              "      <th>Age</th>\n",
              "      <th>Hire Date</th>\n",
              "      <th>Annual Salary</th>\n",
              "      <th>Bonus %</th>\n",
              "      <th>Country</th>\n",
              "      <th>City</th>\n",
              "      <th>Exit Date</th>\n",
              "    </tr>\n",
              "  </thead>\n",
              "  <tbody>\n",
              "    <tr>\n",
              "      <th>0</th>\n",
              "      <td>E02387</td>\n",
              "      <td>Emily Davis</td>\n",
              "      <td>Sr. Manger</td>\n",
              "      <td>IT</td>\n",
              "      <td>Research &amp; Development</td>\n",
              "      <td>Female</td>\n",
              "      <td>Black</td>\n",
              "      <td>55</td>\n",
              "      <td>2016-08-04 00:00:00</td>\n",
              "      <td>$141,604</td>\n",
              "      <td>0.15</td>\n",
              "      <td>United States</td>\n",
              "      <td>Seattle</td>\n",
              "      <td>10/16/2021</td>\n",
              "    </tr>\n",
              "    <tr>\n",
              "      <th>1</th>\n",
              "      <td>E04105</td>\n",
              "      <td>Theodore Dinh</td>\n",
              "      <td>Technical Architect</td>\n",
              "      <td>IT</td>\n",
              "      <td>Manufacturing</td>\n",
              "      <td>Male</td>\n",
              "      <td>Asian</td>\n",
              "      <td>59</td>\n",
              "      <td>11/29/1997</td>\n",
              "      <td>$99,975</td>\n",
              "      <td>0.00</td>\n",
              "      <td>China</td>\n",
              "      <td>Chongqing</td>\n",
              "      <td>NaN</td>\n",
              "    </tr>\n",
              "    <tr>\n",
              "      <th>2</th>\n",
              "      <td>E02572</td>\n",
              "      <td>Luna Sanders</td>\n",
              "      <td>Director</td>\n",
              "      <td>Finance</td>\n",
              "      <td>Speciality Products</td>\n",
              "      <td>Female</td>\n",
              "      <td>Caucasian</td>\n",
              "      <td>50</td>\n",
              "      <td>10/26/2006</td>\n",
              "      <td>$163,099</td>\n",
              "      <td>0.20</td>\n",
              "      <td>United States</td>\n",
              "      <td>Chicago</td>\n",
              "      <td>NaN</td>\n",
              "    </tr>\n",
              "    <tr>\n",
              "      <th>3</th>\n",
              "      <td>E02832</td>\n",
              "      <td>Penelope Jordan</td>\n",
              "      <td>Computer Systems Manager</td>\n",
              "      <td>IT</td>\n",
              "      <td>Manufacturing</td>\n",
              "      <td>Female</td>\n",
              "      <td>Caucasian</td>\n",
              "      <td>26</td>\n",
              "      <td>9/27/2019</td>\n",
              "      <td>$84,913</td>\n",
              "      <td>0.07</td>\n",
              "      <td>United States</td>\n",
              "      <td>Chicago</td>\n",
              "      <td>NaN</td>\n",
              "    </tr>\n",
              "    <tr>\n",
              "      <th>4</th>\n",
              "      <td>E01639</td>\n",
              "      <td>Austin Vo</td>\n",
              "      <td>Sr. Analyst</td>\n",
              "      <td>Finance</td>\n",
              "      <td>Manufacturing</td>\n",
              "      <td>Male</td>\n",
              "      <td>Asian</td>\n",
              "      <td>55</td>\n",
              "      <td>11/20/1995</td>\n",
              "      <td>$95,409</td>\n",
              "      <td>0.00</td>\n",
              "      <td>United States</td>\n",
              "      <td>Phoenix</td>\n",
              "      <td>NaN</td>\n",
              "    </tr>\n",
              "  </tbody>\n",
              "</table>\n",
              "</div>\n",
              "    <div class=\"colab-df-buttons\">\n",
              "\n",
              "  <div class=\"colab-df-container\">\n",
              "    <button class=\"colab-df-convert\" onclick=\"convertToInteractive('df-2181cd75-4234-4c1b-b175-b748a206cafc')\"\n",
              "            title=\"Convert this dataframe to an interactive table.\"\n",
              "            style=\"display:none;\">\n",
              "\n",
              "  <svg xmlns=\"http://www.w3.org/2000/svg\" height=\"24px\" viewBox=\"0 -960 960 960\">\n",
              "    <path d=\"M120-120v-720h720v720H120Zm60-500h600v-160H180v160Zm220 220h160v-160H400v160Zm0 220h160v-160H400v160ZM180-400h160v-160H180v160Zm440 0h160v-160H620v160ZM180-180h160v-160H180v160Zm440 0h160v-160H620v160Z\"/>\n",
              "  </svg>\n",
              "    </button>\n",
              "\n",
              "  <style>\n",
              "    .colab-df-container {\n",
              "      display:flex;\n",
              "      gap: 12px;\n",
              "    }\n",
              "\n",
              "    .colab-df-convert {\n",
              "      background-color: #E8F0FE;\n",
              "      border: none;\n",
              "      border-radius: 50%;\n",
              "      cursor: pointer;\n",
              "      display: none;\n",
              "      fill: #1967D2;\n",
              "      height: 32px;\n",
              "      padding: 0 0 0 0;\n",
              "      width: 32px;\n",
              "    }\n",
              "\n",
              "    .colab-df-convert:hover {\n",
              "      background-color: #E2EBFA;\n",
              "      box-shadow: 0px 1px 2px rgba(60, 64, 67, 0.3), 0px 1px 3px 1px rgba(60, 64, 67, 0.15);\n",
              "      fill: #174EA6;\n",
              "    }\n",
              "\n",
              "    .colab-df-buttons div {\n",
              "      margin-bottom: 4px;\n",
              "    }\n",
              "\n",
              "    [theme=dark] .colab-df-convert {\n",
              "      background-color: #3B4455;\n",
              "      fill: #D2E3FC;\n",
              "    }\n",
              "\n",
              "    [theme=dark] .colab-df-convert:hover {\n",
              "      background-color: #434B5C;\n",
              "      box-shadow: 0px 1px 3px 1px rgba(0, 0, 0, 0.15);\n",
              "      filter: drop-shadow(0px 1px 2px rgba(0, 0, 0, 0.3));\n",
              "      fill: #FFFFFF;\n",
              "    }\n",
              "  </style>\n",
              "\n",
              "    <script>\n",
              "      const buttonEl =\n",
              "        document.querySelector('#df-2181cd75-4234-4c1b-b175-b748a206cafc button.colab-df-convert');\n",
              "      buttonEl.style.display =\n",
              "        google.colab.kernel.accessAllowed ? 'block' : 'none';\n",
              "\n",
              "      async function convertToInteractive(key) {\n",
              "        const element = document.querySelector('#df-2181cd75-4234-4c1b-b175-b748a206cafc');\n",
              "        const dataTable =\n",
              "          await google.colab.kernel.invokeFunction('convertToInteractive',\n",
              "                                                    [key], {});\n",
              "        if (!dataTable) return;\n",
              "\n",
              "        const docLinkHtml = 'Like what you see? Visit the ' +\n",
              "          '<a target=\"_blank\" href=https://colab.research.google.com/notebooks/data_table.ipynb>data table notebook</a>'\n",
              "          + ' to learn more about interactive tables.';\n",
              "        element.innerHTML = '';\n",
              "        dataTable['output_type'] = 'display_data';\n",
              "        await google.colab.output.renderOutput(dataTable, element);\n",
              "        const docLink = document.createElement('div');\n",
              "        docLink.innerHTML = docLinkHtml;\n",
              "        element.appendChild(docLink);\n",
              "      }\n",
              "    </script>\n",
              "  </div>\n",
              "\n",
              "\n",
              "<div id=\"df-6313c10c-c696-4cc4-b11c-25c79a5dd363\">\n",
              "  <button class=\"colab-df-quickchart\" onclick=\"quickchart('df-6313c10c-c696-4cc4-b11c-25c79a5dd363')\"\n",
              "            title=\"Suggest charts\"\n",
              "            style=\"display:none;\">\n",
              "\n",
              "<svg xmlns=\"http://www.w3.org/2000/svg\" height=\"24px\"viewBox=\"0 0 24 24\"\n",
              "     width=\"24px\">\n",
              "    <g>\n",
              "        <path d=\"M19 3H5c-1.1 0-2 .9-2 2v14c0 1.1.9 2 2 2h14c1.1 0 2-.9 2-2V5c0-1.1-.9-2-2-2zM9 17H7v-7h2v7zm4 0h-2V7h2v10zm4 0h-2v-4h2v4z\"/>\n",
              "    </g>\n",
              "</svg>\n",
              "  </button>\n",
              "\n",
              "<style>\n",
              "  .colab-df-quickchart {\n",
              "      --bg-color: #E8F0FE;\n",
              "      --fill-color: #1967D2;\n",
              "      --hover-bg-color: #E2EBFA;\n",
              "      --hover-fill-color: #174EA6;\n",
              "      --disabled-fill-color: #AAA;\n",
              "      --disabled-bg-color: #DDD;\n",
              "  }\n",
              "\n",
              "  [theme=dark] .colab-df-quickchart {\n",
              "      --bg-color: #3B4455;\n",
              "      --fill-color: #D2E3FC;\n",
              "      --hover-bg-color: #434B5C;\n",
              "      --hover-fill-color: #FFFFFF;\n",
              "      --disabled-bg-color: #3B4455;\n",
              "      --disabled-fill-color: #666;\n",
              "  }\n",
              "\n",
              "  .colab-df-quickchart {\n",
              "    background-color: var(--bg-color);\n",
              "    border: none;\n",
              "    border-radius: 50%;\n",
              "    cursor: pointer;\n",
              "    display: none;\n",
              "    fill: var(--fill-color);\n",
              "    height: 32px;\n",
              "    padding: 0;\n",
              "    width: 32px;\n",
              "  }\n",
              "\n",
              "  .colab-df-quickchart:hover {\n",
              "    background-color: var(--hover-bg-color);\n",
              "    box-shadow: 0 1px 2px rgba(60, 64, 67, 0.3), 0 1px 3px 1px rgba(60, 64, 67, 0.15);\n",
              "    fill: var(--button-hover-fill-color);\n",
              "  }\n",
              "\n",
              "  .colab-df-quickchart-complete:disabled,\n",
              "  .colab-df-quickchart-complete:disabled:hover {\n",
              "    background-color: var(--disabled-bg-color);\n",
              "    fill: var(--disabled-fill-color);\n",
              "    box-shadow: none;\n",
              "  }\n",
              "\n",
              "  .colab-df-spinner {\n",
              "    border: 2px solid var(--fill-color);\n",
              "    border-color: transparent;\n",
              "    border-bottom-color: var(--fill-color);\n",
              "    animation:\n",
              "      spin 1s steps(1) infinite;\n",
              "  }\n",
              "\n",
              "  @keyframes spin {\n",
              "    0% {\n",
              "      border-color: transparent;\n",
              "      border-bottom-color: var(--fill-color);\n",
              "      border-left-color: var(--fill-color);\n",
              "    }\n",
              "    20% {\n",
              "      border-color: transparent;\n",
              "      border-left-color: var(--fill-color);\n",
              "      border-top-color: var(--fill-color);\n",
              "    }\n",
              "    30% {\n",
              "      border-color: transparent;\n",
              "      border-left-color: var(--fill-color);\n",
              "      border-top-color: var(--fill-color);\n",
              "      border-right-color: var(--fill-color);\n",
              "    }\n",
              "    40% {\n",
              "      border-color: transparent;\n",
              "      border-right-color: var(--fill-color);\n",
              "      border-top-color: var(--fill-color);\n",
              "    }\n",
              "    60% {\n",
              "      border-color: transparent;\n",
              "      border-right-color: var(--fill-color);\n",
              "    }\n",
              "    80% {\n",
              "      border-color: transparent;\n",
              "      border-right-color: var(--fill-color);\n",
              "      border-bottom-color: var(--fill-color);\n",
              "    }\n",
              "    90% {\n",
              "      border-color: transparent;\n",
              "      border-bottom-color: var(--fill-color);\n",
              "    }\n",
              "  }\n",
              "</style>\n",
              "\n",
              "  <script>\n",
              "    async function quickchart(key) {\n",
              "      const quickchartButtonEl =\n",
              "        document.querySelector('#' + key + ' button');\n",
              "      quickchartButtonEl.disabled = true;  // To prevent multiple clicks.\n",
              "      quickchartButtonEl.classList.add('colab-df-spinner');\n",
              "      try {\n",
              "        const charts = await google.colab.kernel.invokeFunction(\n",
              "            'suggestCharts', [key], {});\n",
              "      } catch (error) {\n",
              "        console.error('Error during call to suggestCharts:', error);\n",
              "      }\n",
              "      quickchartButtonEl.classList.remove('colab-df-spinner');\n",
              "      quickchartButtonEl.classList.add('colab-df-quickchart-complete');\n",
              "    }\n",
              "    (() => {\n",
              "      let quickchartButtonEl =\n",
              "        document.querySelector('#df-6313c10c-c696-4cc4-b11c-25c79a5dd363 button');\n",
              "      quickchartButtonEl.style.display =\n",
              "        google.colab.kernel.accessAllowed ? 'block' : 'none';\n",
              "    })();\n",
              "  </script>\n",
              "</div>\n",
              "\n",
              "    </div>\n",
              "  </div>\n"
            ],
            "application/vnd.google.colaboratory.intrinsic+json": {
              "type": "dataframe",
              "variable_name": "df",
              "summary": "{\n  \"name\": \"df\",\n  \"rows\": 1000,\n  \"fields\": [\n    {\n      \"column\": \"EEID\",\n      \"properties\": {\n        \"dtype\": \"string\",\n        \"num_unique_values\": 911,\n        \"samples\": [\n          \"E04415\",\n          \"E03124\",\n          \"E04536\"\n        ],\n        \"semantic_type\": \"\",\n        \"description\": \"\"\n      }\n    },\n    {\n      \"column\": \"Full Name\",\n      \"properties\": {\n        \"dtype\": \"string\",\n        \"num_unique_values\": 991,\n        \"samples\": [\n          \"Jose Molina\",\n          \"Miles Evans\",\n          \"Andrew Reed\"\n        ],\n        \"semantic_type\": \"\",\n        \"description\": \"\"\n      }\n    },\n    {\n      \"column\": \"Job Title\",\n      \"properties\": {\n        \"dtype\": \"category\",\n        \"num_unique_values\": 33,\n        \"samples\": [\n          \"Service Desk Analyst\",\n          \"Sr. Business Partner\",\n          \"Sr. Account Representative\"\n        ],\n        \"semantic_type\": \"\",\n        \"description\": \"\"\n      }\n    },\n    {\n      \"column\": \"Department\",\n      \"properties\": {\n        \"dtype\": \"category\",\n        \"num_unique_values\": 7,\n        \"samples\": [\n          \"IT\",\n          \"Finance\",\n          \"Engineering\"\n        ],\n        \"semantic_type\": \"\",\n        \"description\": \"\"\n      }\n    },\n    {\n      \"column\": \"Business Unit\",\n      \"properties\": {\n        \"dtype\": \"category\",\n        \"num_unique_values\": 4,\n        \"samples\": [\n          \"Manufacturing\",\n          \"Corporate\",\n          \"Research & Development\"\n        ],\n        \"semantic_type\": \"\",\n        \"description\": \"\"\n      }\n    },\n    {\n      \"column\": \"Gender\",\n      \"properties\": {\n        \"dtype\": \"category\",\n        \"num_unique_values\": 2,\n        \"samples\": [\n          \"Male\",\n          \"Female\"\n        ],\n        \"semantic_type\": \"\",\n        \"description\": \"\"\n      }\n    },\n    {\n      \"column\": \"Ethnicity\",\n      \"properties\": {\n        \"dtype\": \"category\",\n        \"num_unique_values\": 4,\n        \"samples\": [\n          \"Asian\",\n          \"Latino\"\n        ],\n        \"semantic_type\": \"\",\n        \"description\": \"\"\n      }\n    },\n    {\n      \"column\": \"Age\",\n      \"properties\": {\n        \"dtype\": \"number\",\n        \"std\": 11,\n        \"min\": 25,\n        \"max\": 65,\n        \"num_unique_values\": 41,\n        \"samples\": [\n          32,\n          65\n        ],\n        \"semantic_type\": \"\",\n        \"description\": \"\"\n      }\n    },\n    {\n      \"column\": \"Hire Date\",\n      \"properties\": {\n        \"dtype\": \"date\",\n        \"min\": \"1992-01-04 00:00:00\",\n        \"max\": \"2021-12-26 00:00:00\",\n        \"num_unique_values\": 949,\n        \"samples\": [\n          \"2011-10-10 00:00:00\",\n          \"2017-05-08 00:00:00\"\n        ],\n        \"semantic_type\": \"\",\n        \"description\": \"\"\n      }\n    },\n    {\n      \"column\": \"Annual Salary\",\n      \"properties\": {\n        \"dtype\": \"string\",\n        \"num_unique_values\": 996,\n        \"samples\": [\n          \"$78,938 \",\n          \"$61,523 \"\n        ],\n        \"semantic_type\": \"\",\n        \"description\": \"\"\n      }\n    },\n    {\n      \"column\": \"Bonus %\",\n      \"properties\": {\n        \"dtype\": \"number\",\n        \"std\": 0.11785624503815864,\n        \"min\": 0.0,\n        \"max\": 0.4,\n        \"num_unique_values\": 37,\n        \"samples\": [\n          0.05,\n          0.31\n        ],\n        \"semantic_type\": \"\",\n        \"description\": \"\"\n      }\n    },\n    {\n      \"column\": \"Country\",\n      \"properties\": {\n        \"dtype\": \"category\",\n        \"num_unique_values\": 3,\n        \"samples\": [\n          \"United States\",\n          \"China\"\n        ],\n        \"semantic_type\": \"\",\n        \"description\": \"\"\n      }\n    },\n    {\n      \"column\": \"City\",\n      \"properties\": {\n        \"dtype\": \"category\",\n        \"num_unique_values\": 13,\n        \"samples\": [\n          \"Chengdu\",\n          \"Rio de Janerio\"\n        ],\n        \"semantic_type\": \"\",\n        \"description\": \"\"\n      }\n    },\n    {\n      \"column\": \"Exit Date\",\n      \"properties\": {\n        \"dtype\": \"object\",\n        \"num_unique_values\": 83,\n        \"samples\": [\n          \"2019-11-12 00:00:00\",\n          \"10/16/2021\"\n        ],\n        \"semantic_type\": \"\",\n        \"description\": \"\"\n      }\n    }\n  ]\n}"
            }
          },
          "metadata": {},
          "execution_count": 5
        }
      ]
    },
    {
      "cell_type": "code",
      "source": [
        "from openpyxl.utils import get_column_letter, column_index_from_string"
      ],
      "metadata": {
        "id": "7pZkYbzPxbxQ"
      },
      "execution_count": 6,
      "outputs": []
    },
    {
      "cell_type": "code",
      "source": [
        "while True:\n",
        "  search_column_excel = input(\"Enter the column name to search for: \")\n",
        "  try:\n",
        "    search_column = column_index_from_string(search_column_excel) - 1\n",
        "    if 0 <= search_column < df.shape[1]:\n",
        "      break\n",
        "    else:\n",
        "      print('Invalid column name, please check and enter a valid column name:')\n",
        "  except ValueError:\n",
        "    print('Invalid column name, please check and enter a valid column name:')"
      ],
      "metadata": {
        "colab": {
          "base_uri": "https://localhost:8080/"
        },
        "id": "LLjK7Lnaw8_Q",
        "outputId": "9438e96d-0563-450e-8d18-c71d3ab1289d"
      },
      "execution_count": 7,
      "outputs": [
        {
          "name": "stdout",
          "output_type": "stream",
          "text": [
            "Enter the column name to search for: b\n"
          ]
        }
      ]
    },
    {
      "cell_type": "code",
      "source": [
        "data = df.iloc[:,search_column].values.astype(str).tolist()"
      ],
      "metadata": {
        "id": "cslvVYUt14AQ"
      },
      "execution_count": 8,
      "outputs": []
    },
    {
      "cell_type": "code",
      "source": [
        "search_text = input('Please enter the name to find:')"
      ],
      "metadata": {
        "colab": {
          "base_uri": "https://localhost:8080/"
        },
        "id": "lvcZqdbg3IiF",
        "outputId": "9dc4732e-75a9-4ccd-8c42-535b14055639"
      },
      "execution_count": 42,
      "outputs": [
        {
          "name": "stdout",
          "output_type": "stream",
          "text": [
            "Please enter the name to find:Carilo\n"
          ]
        }
      ]
    },
    {
      "cell_type": "code",
      "source": [
        "similarities = [fuzz.ratio(search_text, text) for text in data]"
      ],
      "metadata": {
        "id": "Kd4lr8Mu6BQI"
      },
      "execution_count": 43,
      "outputs": []
    },
    {
      "cell_type": "code",
      "source": [
        "threshold = 57"
      ],
      "metadata": {
        "id": "OqH0HzWl9mkq"
      },
      "execution_count": 56,
      "outputs": []
    },
    {
      "cell_type": "code",
      "source": [
        "indices = [i for i, similarity in enumerate(similarities) if similarity >threshold]"
      ],
      "metadata": {
        "id": "QAy8glGI6irl"
      },
      "execution_count": 57,
      "outputs": []
    },
    {
      "cell_type": "code",
      "source": [
        "if not indices:\n",
        "    print(\"No results found, please refine search keyword or reduce threshold.\")\n",
        "else:\n",
        "    df_indices = [(idx, search_column) for idx in indices]\n",
        "    cell_locations = [f\"{search_column_excel}{df_index[0] + 2}\" for df_index in df_indices]\n",
        "    for df_index, location in zip(df_indices, cell_locations):\n",
        "        print(f\"Found a match at cell {location}: {df.iloc[df_index]}\")"
      ],
      "metadata": {
        "colab": {
          "base_uri": "https://localhost:8080/"
        },
        "id": "AB4QmO-j9xgJ",
        "outputId": "c6048ed5-9ca5-4877-937a-2a38797d2c5a"
      },
      "execution_count": 58,
      "outputs": [
        {
          "output_type": "stream",
          "name": "stdout",
          "text": [
            "Found a match at cell b410: Logan Carrillo\n"
          ]
        }
      ]
    }
  ]
}